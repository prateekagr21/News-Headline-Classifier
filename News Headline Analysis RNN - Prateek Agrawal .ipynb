{
 "cells": [
  {
   "cell_type": "markdown",
   "metadata": {},
   "source": [
    "# News Headline Analysis using  Recurrent Neural Network"
   ]
  },
  {
   "cell_type": "markdown",
   "metadata": {},
   "source": [
    "### Firstly, I will train my model using LSTM \n",
    "### And after that, i will be using Bidirectional LSTM"
   ]
  },
  {
   "cell_type": "markdown",
   "metadata": {},
   "source": [
    "---"
   ]
  },
  {
   "cell_type": "code",
   "execution_count": 2,
   "metadata": {},
   "outputs": [],
   "source": [
    "import pandas as pd\n",
    "import numpy as np"
   ]
  },
  {
   "cell_type": "code",
   "execution_count": 6,
   "metadata": {},
   "outputs": [],
   "source": [
    "# Reading the dataset from kaggle\n",
    "df = pd.read_csv('News Headline traindata.csv')"
   ]
  },
  {
   "cell_type": "code",
   "execution_count": 7,
   "metadata": {},
   "outputs": [
    {
     "data": {
      "text/html": [
       "<div>\n",
       "<style scoped>\n",
       "    .dataframe tbody tr th:only-of-type {\n",
       "        vertical-align: middle;\n",
       "    }\n",
       "\n",
       "    .dataframe tbody tr th {\n",
       "        vertical-align: top;\n",
       "    }\n",
       "\n",
       "    .dataframe thead th {\n",
       "        text-align: right;\n",
       "    }\n",
       "</style>\n",
       "<table border=\"1\" class=\"dataframe\">\n",
       "  <thead>\n",
       "    <tr style=\"text-align: right;\">\n",
       "      <th></th>\n",
       "      <th>id</th>\n",
       "      <th>title</th>\n",
       "      <th>author</th>\n",
       "      <th>text</th>\n",
       "      <th>label</th>\n",
       "    </tr>\n",
       "  </thead>\n",
       "  <tbody>\n",
       "    <tr>\n",
       "      <th>0</th>\n",
       "      <td>0</td>\n",
       "      <td>House Dem Aide: We Didn’t Even See Comey’s Let...</td>\n",
       "      <td>Darrell Lucus</td>\n",
       "      <td>House Dem Aide: We Didn’t Even See Comey’s Let...</td>\n",
       "      <td>1</td>\n",
       "    </tr>\n",
       "    <tr>\n",
       "      <th>1</th>\n",
       "      <td>1</td>\n",
       "      <td>FLYNN: Hillary Clinton, Big Woman on Campus - ...</td>\n",
       "      <td>Daniel J. Flynn</td>\n",
       "      <td>Ever get the feeling your life circles the rou...</td>\n",
       "      <td>0</td>\n",
       "    </tr>\n",
       "    <tr>\n",
       "      <th>2</th>\n",
       "      <td>2</td>\n",
       "      <td>Why the Truth Might Get You Fired</td>\n",
       "      <td>Consortiumnews.com</td>\n",
       "      <td>Why the Truth Might Get You Fired October 29, ...</td>\n",
       "      <td>1</td>\n",
       "    </tr>\n",
       "    <tr>\n",
       "      <th>3</th>\n",
       "      <td>3</td>\n",
       "      <td>15 Civilians Killed In Single US Airstrike Hav...</td>\n",
       "      <td>Jessica Purkiss</td>\n",
       "      <td>Videos 15 Civilians Killed In Single US Airstr...</td>\n",
       "      <td>1</td>\n",
       "    </tr>\n",
       "    <tr>\n",
       "      <th>4</th>\n",
       "      <td>4</td>\n",
       "      <td>Iranian woman jailed for fictional unpublished...</td>\n",
       "      <td>Howard Portnoy</td>\n",
       "      <td>Print \\nAn Iranian woman has been sentenced to...</td>\n",
       "      <td>1</td>\n",
       "    </tr>\n",
       "  </tbody>\n",
       "</table>\n",
       "</div>"
      ],
      "text/plain": [
       "   id                                              title              author  \\\n",
       "0   0  House Dem Aide: We Didn’t Even See Comey’s Let...       Darrell Lucus   \n",
       "1   1  FLYNN: Hillary Clinton, Big Woman on Campus - ...     Daniel J. Flynn   \n",
       "2   2                  Why the Truth Might Get You Fired  Consortiumnews.com   \n",
       "3   3  15 Civilians Killed In Single US Airstrike Hav...     Jessica Purkiss   \n",
       "4   4  Iranian woman jailed for fictional unpublished...      Howard Portnoy   \n",
       "\n",
       "                                                text  label  \n",
       "0  House Dem Aide: We Didn’t Even See Comey’s Let...      1  \n",
       "1  Ever get the feeling your life circles the rou...      0  \n",
       "2  Why the Truth Might Get You Fired October 29, ...      1  \n",
       "3  Videos 15 Civilians Killed In Single US Airstr...      1  \n",
       "4  Print \\nAn Iranian woman has been sentenced to...      1  "
      ]
     },
     "execution_count": 7,
     "metadata": {},
     "output_type": "execute_result"
    }
   ],
   "source": [
    "df.head()"
   ]
  },
  {
   "cell_type": "code",
   "execution_count": 9,
   "metadata": {},
   "outputs": [
    {
     "data": {
      "text/plain": [
       "<matplotlib.axes._subplots.AxesSubplot at 0x1e0b97da5c0>"
      ]
     },
     "execution_count": 9,
     "metadata": {},
     "output_type": "execute_result"
    },
    {
     "data": {
      "image/png": "[encoded data removed]",
      "text/plain": [
       "<Figure size 432x288 with 1 Axes>"
      ]
     },
     "metadata": {
      "needs_background": "light"
     },
     "output_type": "display_data"
    }
   ],
   "source": [
    "# to drop nan values\n",
    "import matplotlib.pyplot as plt\n",
    "import seaborn as sns\n",
    "sns.heatmap(df.isnull(), cbar=False)"
   ]
  },
  {
   "cell_type": "code",
   "execution_count": 10,
   "metadata": {},
   "outputs": [],
   "source": [
    "df = df.dropna()"
   ]
  },
  {
   "cell_type": "code",
   "execution_count": 11,
   "metadata": {},
   "outputs": [],
   "source": [
    "# Independent features\n",
    "X=df.drop('label',axis=1)"
   ]
  },
  {
   "cell_type": "code",
   "execution_count": 12,
   "metadata": {},
   "outputs": [],
   "source": [
    "# Dependent Features\n",
    "y=df['label']"
   ]
  },
  {
   "cell_type": "code",
   "execution_count": 13,
   "metadata": {},
   "outputs": [
    {
     "data": {
      "text/plain": [
       "(18285, 4)"
      ]
     },
     "execution_count": 13,
     "metadata": {},
     "output_type": "execute_result"
    }
   ],
   "source": [
    "X.shape"
   ]
  },
  {
   "cell_type": "code",
   "execution_count": 14,
   "metadata": {},
   "outputs": [
    {
     "data": {
      "text/plain": [
       "(18285,)"
      ]
     },
     "execution_count": 14,
     "metadata": {},
     "output_type": "execute_result"
    }
   ],
   "source": [
    "y.shape"
   ]
  },
  {
   "cell_type": "code",
   "execution_count": 15,
   "metadata": {},
   "outputs": [
    {
     "data": {
      "text/plain": [
       "<matplotlib.axes._subplots.AxesSubplot at 0x1e0b9d8d4e0>"
      ]
     },
     "execution_count": 15,
     "metadata": {},
     "output_type": "execute_result"
    },
    {
     "data": {
      "image/png": "[encoded data removed]",
      "text/plain": [
       "<Figure size 432x288 with 1 Axes>"
      ]
     },
     "metadata": {
      "needs_background": "light"
     },
     "output_type": "display_data"
    }
   ],
   "source": [
    "sns.heatmap(df.isnull(), cbar=False)"
   ]
  },
  {
   "cell_type": "markdown",
   "metadata": {},
   "source": [
    "So now, we have dropped all tha null values !"
   ]
  },
  {
   "cell_type": "code",
   "execution_count": 16,
   "metadata": {},
   "outputs": [],
   "source": [
    "import tensorflow as tf"
   ]
  },
  {
   "cell_type": "code",
   "execution_count": 17,
   "metadata": {},
   "outputs": [],
   "source": [
    "from tensorflow.keras.layers import Embedding\n",
    "from tensorflow.keras.preprocessing.sequence import pad_sequences\n",
    "from tensorflow.keras.models import Sequential\n",
    "from tensorflow.keras.preprocessing.text import one_hot\n",
    "from tensorflow.keras.layers import LSTM\n",
    "from tensorflow.keras.layers import Dense"
   ]
  },
  {
   "cell_type": "markdown",
   "metadata": {},
   "source": [
    "### Making a copy of Independent Features"
   ]
  },
  {
   "cell_type": "code",
   "execution_count": 20,
   "metadata": {},
   "outputs": [],
   "source": [
    "messages = X.copy()"
   ]
  },
  {
   "cell_type": "code",
   "execution_count": 23,
   "metadata": {},
   "outputs": [
    {
     "data": {
      "text/plain": [
       "'Why the Truth Might Get You Fired'"
      ]
     },
     "execution_count": 23,
     "metadata": {},
     "output_type": "execute_result"
    }
   ],
   "source": [
    "messages['title'][2]"
   ]
  },
  {
   "cell_type": "code",
   "execution_count": 24,
   "metadata": {},
   "outputs": [],
   "source": [
    "messages.reset_index(inplace=True)"
   ]
  },
  {
   "cell_type": "markdown",
   "metadata": {},
   "source": [
    "### Removing Stopwords"
   ]
  },
  {
   "cell_type": "code",
   "execution_count": 25,
   "metadata": {},
   "outputs": [],
   "source": [
    "import nltk\n",
    "import re\n",
    "from nltk.corpus import stopwords"
   ]
  },
  {
   "cell_type": "code",
   "execution_count": 26,
   "metadata": {},
   "outputs": [
    {
     "name": "stdout",
     "output_type": "stream",
     "text": [
      "[nltk_data] Downloading package stopwords to\n",
      "[nltk_data]     C:\\Users\\91993\\AppData\\Roaming\\nltk_data...\n",
      "[nltk_data]   Unzipping corpora\\stopwords.zip.\n"
     ]
    },
    {
     "data": {
      "text/plain": [
       "True"
      ]
     },
     "execution_count": 26,
     "metadata": {},
     "output_type": "execute_result"
    }
   ],
   "source": [
    "nltk.download('stopwords')"
   ]
  },
  {
   "cell_type": "markdown",
   "metadata": {},
   "source": [
    "### Stemming"
   ]
  },
  {
   "cell_type": "code",
   "execution_count": 28,
   "metadata": {},
   "outputs": [],
   "source": [
    "from nltk.stem.porter import PorterStemmer\n",
    "ps = PorterStemmer()\n",
    "\n",
    "corpus = []\n",
    "\n",
    "for i in range(0, len(messages)):\n",
    "    \n",
    "    # Replacing characters other than alphabets with a space :\n",
    "    review = re.sub('[^a-zA-Z]', ' ', messages['title'][i])\n",
    "    review = review.lower()\n",
    "    review = review.split()\n",
    "    \n",
    "    review = [ps.stem(word) for word in review if not word in stopwords.words('english')]\n",
    "    review = ' '.join(review)\n",
    "    corpus.append(review)"
   ]
  },
  {
   "cell_type": "code",
   "execution_count": 29,
   "metadata": {},
   "outputs": [
    {
     "name": "stdout",
     "output_type": "stream",
     "text": [
      "18284\n"
     ]
    }
   ],
   "source": [
    "print(i)"
   ]
  },
  {
   "cell_type": "code",
   "execution_count": 31,
   "metadata": {},
   "outputs": [],
   "source": [
    "#corpus"
   ]
  },
  {
   "cell_type": "markdown",
   "metadata": {},
   "source": [
    "## One Hot Encoding"
   ]
  },
  {
   "cell_type": "code",
   "execution_count": 32,
   "metadata": {},
   "outputs": [],
   "source": [
    "voc_size = 5000"
   ]
  },
  {
   "cell_type": "code",
   "execution_count": 34,
   "metadata": {},
   "outputs": [],
   "source": [
    "onehot_rep=[one_hot(words,voc_size)for words in corpus] "
   ]
  },
  {
   "cell_type": "code",
   "execution_count": 37,
   "metadata": {},
   "outputs": [
    {
     "data": {
      "text/plain": [
       "[[581, 4213, 1897, 2334, 806, 2197, 2925, 1276, 981, 4840],\n",
       " [2910, 3632, 358, 261, 4193, 39, 1352],\n",
       " [510, 3646, 3757, 3307],\n",
       " [1595, 4146, 1729, 4354, 2617, 996],\n",
       " [1639, 4193, 97, 1422, 3978, 4852, 4193, 765, 3678, 2001],\n",
       " [1928,\n",
       "  2647,\n",
       "  1018,\n",
       "  424,\n",
       "  1846,\n",
       "  3800,\n",
       "  4243,\n",
       "  3978,\n",
       "  557,\n",
       "  2176,\n",
       "  2860,\n",
       "  1317,\n",
       "  1267,\n",
       "  198,\n",
       "  1352],\n",
       " [1832, 37, 1438, 1076, 1238, 248, 3475, 1907, 3668, 4298, 4690],\n",
       " [3342, 4101, 1878, 1432, 1266, 870, 3800, 4426, 3668, 4298, 4690],\n",
       " [1864, 3903, 1604, 505, 569, 1028, 3631, 480, 3800, 4752],\n",
       " [3022, 763, 248, 1297, 1429, 4114, 3985, 4895],\n",
       " [3936, 3683, 4107, 53, 3063, 3642, 1713, 1132, 1889, 4740, 3838],\n",
       " [4354, 2831, 806, 1028, 3800, 1266],\n",
       " [1433, 4759, 1398, 857, 2622, 2363, 2825, 3852, 2094],\n",
       " [433, 1193, 2909, 615, 1725, 691, 4423, 3668, 4298, 4690],\n",
       " [2068, 4892, 4118, 2325, 4075, 3668, 4298, 4690],\n",
       " [3877, 1122, 4310, 4895, 3597, 1910, 3762, 3163, 4298, 366],\n",
       " [2934, 4509, 3632],\n",
       " [50, 91, 2515, 4689, 3800, 2213, 469, 1352],\n",
       " [732, 1275, 358, 4738, 4494, 1070, 3124, 3662, 4852],\n",
       " [3335, 3858, 3800, 3981, 986, 1352],\n",
       " [1138, 1097, 4231, 4191, 3041, 3124, 2906, 263, 431, 3668, 4298, 4690],\n",
       " [2152, 786, 4555, 2995, 4629, 2786, 1500],\n",
       " [1267, 4135, 402, 127, 2719, 1394, 3226, 3223, 3983, 4800, 1027, 1352],\n",
       " [798, 3632, 504, 4955, 1231, 206, 3292, 2147],\n",
       " [1585, 2341, 3053, 4363, 3825, 2682, 4738, 1556, 3069, 3668, 4298, 4690],\n",
       " [3632, 358, 280, 427, 3668, 4298, 4690],\n",
       " [50, 91, 2515, 4253, 222, 4028, 4363, 1352],\n",
       " [3060, 2155, 777, 787, 3307, 3668, 4298, 4690],\n",
       " [1686, 212, 263, 1932, 90, 2387, 639, 686, 1742, 3668, 4298, 4690],\n",
       " [3810, 2862, 3542, 3223, 4502, 2784, 544, 3867, 2248, 3668, 4298, 4690],\n",
       " [1266, 1573, 4629, 111, 3788, 1637, 3668, 4298, 4690],\n",
       " [4151, 444, 1537, 3639, 1475],\n",
       " [2544, 4364, 2579, 2577],\n",
       " [4828, 3278, 4235, 1441, 4354, 619, 2809, 1352],\n",
       " [3310, 2200, 3310, 4232, 3913, 4997, 3668, 4298, 4690],\n",
       " [3478, 1633, 4043, 3711, 4997, 1575, 1245, 1352],\n",
       " [2539, 2362, 303, 3912],\n",
       " [4737, 3230, 3445, 1710, 172, 2967, 3668, 4298, 4690],\n",
       " [3437, 2848, 2822, 2257, 1864, 2068, 1091, 2830, 1352],\n",
       " [1764, 2764, 4345, 4041, 4580, 3476, 3053, 3668, 4298, 4690],\n",
       " [1532, 2621, 332, 4567, 2575, 2787, 2420, 2574, 198],\n",
       " [327, 668, 2750, 3942, 1690, 3668, 2824, 3668, 4298, 4690],\n",
       " [2235, 2719, 1084, 2139, 695, 4408, 3854, 4365, 997, 4047, 350, 1352],\n",
       " [584, 51, 1995],\n",
       " [2908, 84, 4965, 2873, 2107, 1502, 83, 3412, 1611, 1352],\n",
       " [3800, 2577, 584, 2664, 1994, 3814],\n",
       " [1636, 3471, 168, 2325, 2018, 4701, 3874, 1594, 3528, 2477, 198],\n",
       " [4505, 2326, 4135, 4235, 3796],\n",
       " [4689, 3800, 1438, 2577, 4559, 4885, 4354, 2213, 3409],\n",
       " [3648, 629, 2008, 603, 3579, 3668, 4298, 4690],\n",
       " [433, 4475, 2658, 306, 1154, 4977, 3668, 4298, 4690],\n",
       " [3078, 1890, 1957, 3413, 2577],\n",
       " [2985, 2437, 1501, 2646, 568, 1980, 2904, 700, 3668, 4298, 4690],\n",
       " [2677, 3855, 3800, 4952, 3842, 1760, 571, 4497, 4287],\n",
       " [3796, 493, 4292, 483, 531, 1374, 3427, 3137, 4907, 3668, 4298, 4690],\n",
       " [2579, 2202, 4135, 402, 1033, 1133, 2658, 2579, 248],\n",
       " [584, 1725, 1083, 1470, 4234, 4797, 2164, 4761, 4354, 2434],\n",
       " [358, 301, 2959, 2934, 1883, 1281, 2578, 3632, 358, 3858],\n",
       " [836, 4925, 3855, 1138, 2147, 3668, 4298, 4690],\n",
       " [1596, 2307, 2163, 2363, 3800, 1011, 2213, 4057],\n",
       " [4949, 2161, 1891, 2113],\n",
       " [1148, 2358, 2719, 1725, 2700],\n",
       " [1808, 1957, 4193, 430, 3668, 4298, 4690],\n",
       " [3601, 4072, 4151, 3738, 1037, 3668, 4485, 3668, 4298, 4690],\n",
       " [1532, 179, 4752, 1864, 2066, 4990, 2894, 1091, 3668, 4298, 4690],\n",
       " [4828, 4223, 4389, 4390, 3217, 3668, 4298, 4690],\n",
       " [4040, 4466, 2129, 3958, 1864, 2731, 2505, 4363],\n",
       " [2579, 1757, 2848, 2689, 2669, 1543, 3668, 4298, 4690],\n",
       " [1578, 4455, 2598, 353, 3800, 402, 4905, 1352],\n",
       " [3238, 4859, 2653, 2579, 3475, 4607, 1969, 2334, 75, 3668, 4298, 4690],\n",
       " [2144, 4660, 2544, 2139, 1857, 1135, 2127, 4055, 2885],\n",
       " [1814, 981, 2613, 3632],\n",
       " [463, 3890, 1225, 168, 2680, 3291, 1565, 4738, 3944],\n",
       " [3800, 3814, 3949, 515, 3668, 4298, 4690],\n",
       " [900, 2016, 3178, 4444, 3798, 3312, 950, 349, 3668, 4298, 4690],\n",
       " [4208],\n",
       " [3800, 3422, 2147, 3216, 2906, 127, 2574, 3668, 4298, 4690],\n",
       " [3053, 3361, 2700, 1821, 1714, 358, 2147, 4846, 3800, 1603, 2288, 3413],\n",
       " [1422, 3092, 1544, 4639, 3668, 4298, 4690],\n",
       " [2282, 1947, 4688, 4949, 4937, 1018, 2132, 3668, 4298, 4690],\n",
       " [1552, 3316, 4540, 3430, 2287, 194, 1065, 2628, 274, 788],\n",
       " [2963, 823, 282, 1573, 223, 4856, 2156, 2115, 3668, 4298, 4690],\n",
       " [1109,\n",
       "  513,\n",
       "  2056,\n",
       "  864,\n",
       "  552,\n",
       "  4689,\n",
       "  3800,\n",
       "  4828,\n",
       "  3865,\n",
       "  3290,\n",
       "  3814,\n",
       "  3630,\n",
       "  4739,\n",
       "  3011,\n",
       "  1299,\n",
       "  4568],\n",
       " [1352, 4363, 1891, 3800, 2251, 1352],\n",
       " [3483, 581, 4639, 447, 1936, 1864, 956, 3738],\n",
       " [2655, 1643, 350, 4828, 2577, 4568, 1352],\n",
       " [2139, 1408, 3971, 3413, 3200, 4796, 4231, 3668, 4298, 4690],\n",
       " [3233, 2579, 3586, 4746, 813, 1878, 4065, 3668, 4298, 4690],\n",
       " [3808, 1297, 2167, 786, 1747, 2701, 1841],\n",
       " [3124, 1502, 3272, 3871, 2288, 398, 3668, 4298, 4690],\n",
       " [3632, 358, 1139, 4895, 3814, 426, 4742, 4689, 3800, 3668, 4298, 4690],\n",
       " [3800, 4987, 329, 2700, 3849, 2116, 1726, 1186],\n",
       " [3217, 220, 3936, 1398, 4997],\n",
       " [3711, 1063, 1416, 3099, 3163, 4298, 366],\n",
       " [4441, 402, 736, 1225, 2667, 557, 1457, 736, 1225, 2667, 1352],\n",
       " [402, 261, 4044, 2493, 898, 1686, 1317, 4805, 1352],\n",
       " [2677, 2606, 2905, 3323, 4981, 2638, 3276, 1823, 1342, 3229, 1352],\n",
       " [4445, 2934, 781, 1070, 957, 1097, 474, 3746, 261, 1633, 3668, 4298, 4690],\n",
       " [1810, 4050, 119, 722, 1847, 3800, 3619, 673, 1697, 1553],\n",
       " [2068, 3800, 1557, 1868, 1051, 981, 3469, 4298, 3327, 873, 3777, 1866, 2047],\n",
       " [3727, 4902, 4784, 2921, 2704, 2637, 4818, 3512, 3668, 4298, 4690],\n",
       " [358, 301, 4505, 2417, 2052, 3508, 2831, 4856, 3413, 3632, 1166, 946],\n",
       " [2621, 2792, 1823, 2466, 3018, 4237, 1335, 4856, 2692, 1510, 3704, 1352],\n",
       " [2607, 2539, 3379, 3630, 4553, 379, 3078, 1150, 2370, 3668, 4298, 4690],\n",
       " [1923, 4024, 2906, 744, 3068, 571, 3668, 4298, 4690],\n",
       " [3796, 859, 4949, 4657, 2660, 2261, 3668, 4298, 4690],\n",
       " [3800, 1794, 1014, 3835, 3642, 4175, 2831, 2163, 3668, 4298, 4690],\n",
       " [372, 2915, 4354, 3858, 3712, 2257, 1864, 3632, 3858],\n",
       " [3446, 1730, 581, 3668, 686, 2004, 3092, 2690, 136, 1091, 1238],\n",
       " [4148, 2832, 101, 1514, 697, 4148, 4453, 3668, 4298, 4690],\n",
       " [4977, 847, 2659, 581, 4812, 788, 2863],\n",
       " [1810, 300, 1896, 2116, 4354, 2577, 2445, 3611, 3632, 1438],\n",
       " [4356, 344, 1721, 859, 4942, 691, 3668, 4298, 4690],\n",
       " [4509, 84, 4448, 3967, 3992, 223, 3617, 3668, 4298, 4690],\n",
       " [2621, 1390, 92, 3483, 581, 3438, 4689, 3800, 1352],\n",
       " [4868, 1299, 3297, 3800, 4292, 157, 2574, 1352],\n",
       " [1407, 1262, 2437, 1004, 3793],\n",
       " [2922, 3800, 4363, 4997, 1171, 3668, 4298, 4690],\n",
       " [4689, 3800, 1690, 1878, 929, 2641, 3630, 487, 3668, 4298, 4690],\n",
       " [756, 4828, 487, 4805, 4629, 699, 3630, 4455, 2987, 1352],\n",
       " [3542, 3135, 4088, 3510],\n",
       " [2831, 4859, 2653, 2437, 2539, 3797, 3668, 4298, 4690],\n",
       " [4216, 2303, 599, 1946, 2628, 2196, 709, 1486, 17],\n",
       " [2579, 3233, 4339, 2202, 1321, 3790, 1322, 2274, 469, 2906],\n",
       " [3800, 2247, 519, 4718, 1231, 1095, 3124, 1643, 3888, 3134, 198],\n",
       " [2934, 1725, 2877, 2343, 3632, 358, 3858, 981, 3950],\n",
       " [474, 3124, 3041, 4146, 4761, 52, 1543, 773, 3293],\n",
       " [2700, 3469, 1153, 3985, 598, 2679, 2116, 3800, 4658],\n",
       " [4949, 2525, 607, 552, 494, 4729],\n",
       " [379, 4146, 446, 3459, 535, 787, 2811, 1133],\n",
       " [787, 1197, 2141, 3938, 2111, 4445, 1785, 2934, 456, 767, 4856],\n",
       " [722, 168, 3511, 4944, 4467, 1223, 4952, 1687, 2271, 4546],\n",
       " [3409, 3000, 4354, 2701, 4856, 1832, 1565, 774, 841, 3413, 3217],\n",
       " [4191, 1841, 3422, 2011, 3668, 4298, 4690],\n",
       " [3127, 2856, 4441, 4650, 3800, 4426, 1770, 3668, 4298, 4690],\n",
       " [1225, 134, 4935, 1510, 371, 1878, 976, 3835, 3668, 4298, 4690],\n",
       " [3688, 2818],\n",
       " [4314, 3472, 3483, 581, 3445, 2321, 2139, 3842, 3668, 4298, 4690],\n",
       " [4173, 3142, 3307, 353, 53, 3716, 3800, 4426, 4840, 1352],\n",
       " [358, 3086],\n",
       " [4772, 4246, 1676, 3295, 2052, 2854, 4944, 3668, 4298, 4690],\n",
       " [2052, 4164, 2437, 119, 4022],\n",
       " [3668, 2908, 1028, 3885, 227, 3183, 3001, 4629, 3544],\n",
       " [1120, 862, 4339, 1577],\n",
       " [168, 2018, 93, 2164, 4489, 487, 3800],\n",
       " [4184, 920, 350, 1398, 4336, 168, 2005, 111, 544, 1454, 3668, 4298, 4690],\n",
       " [1712, 4118, 4627, 2700, 2905, 4365, 2839, 3668, 4298, 4690],\n",
       " [3449, 4568, 168, 1452, 3668, 4298, 4690],\n",
       " [1600, 3365, 452, 515, 583, 1485, 1966, 1352],\n",
       " [2074, 3830, 4900, 1450, 2156, 2786, 3124, 2667, 2434, 2811],\n",
       " [90, 4940, 2993, 3780, 3544, 2905, 1352],\n",
       " [1606, 3134, 521, 3726, 4521, 3998],\n",
       " [3800, 929, 3120, 2911, 1158, 4028, 3580, 1857, 1936],\n",
       " [48,\n",
       "  3600,\n",
       "  1930,\n",
       "  607,\n",
       "  4645,\n",
       "  2389,\n",
       "  4256,\n",
       "  2068,\n",
       "  1091,\n",
       "  1735,\n",
       "  1148,\n",
       "  2163,\n",
       "  502,\n",
       "  1448,\n",
       "  4689,\n",
       "  3800,\n",
       "  1352],\n",
       " [2493, 2621, 3477, 1299, 3311, 4689, 3800, 1522, 3668, 4298, 4690],\n",
       " [2544, 2925, 3800, 1643, 1541, 1957],\n",
       " [1498, 3639, 306, 1636, 3545, 3342, 3632, 3780, 2538, 4472],\n",
       " [1606, 4227, 2804, 4037, 3279, 1857, 790, 3668, 4298, 4690],\n",
       " [1957, 2546, 2546, 1466, 3668, 4298, 4690],\n",
       " [2452, 2163, 4024, 633, 4308, 4551, 1004, 2612, 3668, 4298, 4690],\n",
       " [656, 1398, 248, 4206, 1543, 3910, 2538, 2579, 1266, 1249, 3668, 4298, 4690],\n",
       " [908, 3462, 3307, 253, 2470, 976, 3843],\n",
       " [1735, 1923, 4882, 1735, 3668, 4298, 4690],\n",
       " [488, 1585, 2538, 581, 2574, 2577, 3800, 3668, 4298, 4690],\n",
       " [903, 2579, 3190, 603, 230, 1577, 788, 3307],\n",
       " [2418,\n",
       "  2603,\n",
       "  3814,\n",
       "  4086,\n",
       "  3757,\n",
       "  3134,\n",
       "  1730,\n",
       "  1632,\n",
       "  581,\n",
       "  2667,\n",
       "  3957,\n",
       "  3757,\n",
       "  487,\n",
       "  376,\n",
       "  1921,\n",
       "  1142,\n",
       "  691],\n",
       " [4654, 603, 3814, 1225, 2508, 4625, 3342, 3469, 1225, 4044, 4625],\n",
       " [4901, 3800, 2226, 4322, 3668, 4298, 4690],\n",
       " [2934, 4568, 2197, 4773, 3508, 4325, 358],\n",
       " [598, 1540, 1801, 3428, 2186, 4435, 1133],\n",
       " [3678, 3724, 402, 4107],\n",
       " [1498, 862, 4789, 3137, 4965, 467, 92, 4146, 1343],\n",
       " [4689, 3800, 4399, 1633, 2895, 1383, 2577, 625, 3668, 4298, 4690],\n",
       " [486, 3878, 504, 2391, 4295, 1541, 803, 4388, 2116, 3668, 4298, 4690],\n",
       " [4538, 54, 2582, 1385, 1922, 4005, 2450, 908],\n",
       " [4689, 3800, 2416, 4568, 3668, 4298, 4690],\n",
       " [3579, 3668, 1585, 3632, 519, 301, 3532, 736, 4354, 3814, 2974, 2209, 1615],\n",
       " [1267,\n",
       "  929,\n",
       "  3980,\n",
       "  3967,\n",
       "  185,\n",
       "  2685,\n",
       "  2172,\n",
       "  4650,\n",
       "  2163,\n",
       "  917,\n",
       "  732,\n",
       "  696,\n",
       "  1297,\n",
       "  3192,\n",
       "  1186],\n",
       " [3800, 3297, 2700, 3822, 1735, 1794, 2485, 1352],\n",
       " [3908, 2745, 1097, 474],\n",
       " [1067, 1225, 1532, 4788, 1095, 1677, 3668, 4298, 4690],\n",
       " [786, 1878, 1835, 1910, 517, 1321, 338],\n",
       " [3800, 1133, 3217, 330, 4509, 1498, 3668, 4298, 4690],\n",
       " [358, 1985, 2778, 4312, 3858, 3632, 3469, 2070],\n",
       " [122, 653, 987, 4737, 3828, 1091, 1352],\n",
       " [4689, 3800, 4235, 2628, 2873],\n",
       " [2174, 4088, 3523, 684, 929, 4453, 2540, 1329, 2950],\n",
       " [548, 3217, 4607, 2642, 3356, 264, 1321, 2865, 3668, 4298, 4690],\n",
       " [1267, 3987, 2163, 4445, 2934, 424, 2946, 3342, 3053, 4363],\n",
       " [2068, 531, 1864, 4972, 1544, 926, 1269, 221, 3413, 3668, 4298, 4690],\n",
       " [777, 487, 4088, 969, 4625, 4551, 2721, 2400, 3668, 4298, 4690],\n",
       " [2794, 949, 3401, 3913, 4363, 3800],\n",
       " [3986,\n",
       "  4654,\n",
       "  3134,\n",
       "  686,\n",
       "  2004,\n",
       "  3005,\n",
       "  3422,\n",
       "  2546,\n",
       "  218,\n",
       "  2480,\n",
       "  3757,\n",
       "  4298,\n",
       "  2305,\n",
       "  53],\n",
       " [4294, 2579, 4396, 1495, 3814, 3668, 4298, 4690],\n",
       " [3889, 3674, 842, 3304, 904, 2414, 1133, 3668, 4298, 4690],\n",
       " [775, 4828, 539, 1457, 3517, 4088, 3800],\n",
       " [1225, 1313, 544, 1510, 4551, 833, 3668, 4298, 4690],\n",
       " [1266, 4518, 1133, 4613, 3575, 2163, 420, 402],\n",
       " [3327, 353, 250, 3421, 2107, 2787, 4850, 3668, 4298, 4690],\n",
       " [1225, 544, 1035, 4935, 1510, 125, 2, 330, 3668, 4298, 4690],\n",
       " [3422,\n",
       "  3685,\n",
       "  3233,\n",
       "  4208,\n",
       "  3446,\n",
       "  634,\n",
       "  4693,\n",
       "  3422,\n",
       "  2425,\n",
       "  4208,\n",
       "  3446,\n",
       "  2374,\n",
       "  692,\n",
       "  2615],\n",
       " [3800, 2031, 4363, 2363, 3668, 4997, 3285, 4846, 3668, 4298, 4690],\n",
       " [2579, 1826, 2689, 1077, 3330, 787, 3668, 4298, 4690],\n",
       " [2579, 832, 2445, 561, 3340, 1133, 4735, 3668, 4298, 1450, 1686],\n",
       " [1541, 2740, 607, 2364, 2659],\n",
       " [2700, 4445, 2934, 2142, 3794, 1633, 927, 929, 2116],\n",
       " [4617, 4223, 4551, 4777, 1043, 3668, 4298, 4690],\n",
       " [4653,\n",
       "  2271,\n",
       "  4546,\n",
       "  2018,\n",
       "  1991,\n",
       "  2418,\n",
       "  1991,\n",
       "  515,\n",
       "  4546,\n",
       "  3800,\n",
       "  1594,\n",
       "  424,\n",
       "  4915,\n",
       "  2213,\n",
       "  4751],\n",
       " [1529, 3217, 2068, 4892, 4118, 378, 3524, 3668, 4298, 4690],\n",
       " [133, 1529, 2489, 1089, 2515, 4028, 4363, 778, 1352],\n",
       " [617, 1616, 3584, 3668, 4856, 3800, 2115, 3668, 4298, 4690],\n",
       " [3924, 4385, 235, 3719, 4900, 3913, 1532, 1352],\n",
       " [2675, 2218, 353, 4453, 727, 4650, 3668, 4298, 4690],\n",
       " [686, 3378],\n",
       " [3928, 3089, 2579, 4619, 3530, 2862, 571, 337, 2424, 3668, 4298, 4690],\n",
       " [3800, 462, 736, 3301, 1413, 1375, 101, 3668, 4298, 4690],\n",
       " [1344, 3124, 2639, 4393, 2164, 1398, 2453, 4555, 2692, 1352],\n",
       " [4135, 402, 127, 3824, 2906, 527, 945, 4797, 2811, 2434, 1450],\n",
       " [3924, 2700, 4088, 544, 3860, 1957, 261, 1374, 2546, 1352],\n",
       " [787, 754, 4509, 4639, 1438, 656, 35, 1713],\n",
       " [1599],\n",
       " [1076, 3810, 2280, 4846, 3399, 2129, 3148, 3668, 4298, 4690],\n",
       " [3800, 4131, 248, 4471, 4354, 2701, 3668, 4298, 4690],\n",
       " [4857, 3073, 1356, 2633, 2577],\n",
       " [634, 726, 623, 1697, 730, 3233, 2052, 4096, 3668, 1697, 730, 3233, 2052],\n",
       " [4732, 581, 2642, 4037, 158, 3668, 4298, 4690],\n",
       " [4339, 1846, 1291, 4689, 3800, 3668, 3956, 4384, 3668, 4298, 4690],\n",
       " [513, 2056, 768, 127, 4689, 3800, 3133, 1057, 3668, 4298, 4690],\n",
       " [1477, 4553, 1076, 3043, 729, 1132, 3668, 4298, 4690],\n",
       " [4267, 1280, 2579, 581, 3475, 1864, 2574],\n",
       " [1814, 3970, 2607, 2934, 1858, 2862],\n",
       " [1729, 4534, 2713, 839, 1537, 4856, 1040, 4789, 4690, 3668, 4298, 4690],\n",
       " [455, 3003, 3592, 2460, 3668, 2118, 2424, 1352],\n",
       " [3800, 2435, 3168, 3225, 3646, 4044, 2220, 3333, 3630, 3668, 4298, 4690],\n",
       " [2740, 504, 4086, 2701, 4800, 2068, 3217, 2115, 86, 4519, 2063, 3611, 1352],\n",
       " [1715, 2013, 3206, 956, 3537, 1158, 3668, 4298, 4690],\n",
       " [47, 4671, 3342, 35, 3064, 4106, 2894],\n",
       " [603, 2906, 70, 3124, 3265, 3668, 4298, 4690],\n",
       " [2605, 3983, 1329, 3292, 3762, 2431, 1352],\n",
       " [53, 2326, 787],\n",
       " [2667, 2508, 4617, 1923, 2613, 997, 1357, 699, 4013],\n",
       " [3632, 301, 46, 672, 2784, 4666, 3091, 2934, 2685, 2796, 353],\n",
       " [4151, 504, 4568, 1190, 3511, 4483, 3800, 1438],\n",
       " [561, 4901, 4213, 567, 476, 3025, 123, 3800, 1643, 1352],\n",
       " [1043, 3165, 3526, 3447, 3800, 3757, 3738],\n",
       " [4828, 4201, 2822, 2700, 2270, 3838, 1352],\n",
       " [125,\n",
       "  1091,\n",
       "  707,\n",
       "  1774,\n",
       "  3156,\n",
       "  2544,\n",
       "  3307,\n",
       "  125,\n",
       "  1091,\n",
       "  1370,\n",
       "  4353,\n",
       "  1091,\n",
       "  963,\n",
       "  4840],\n",
       " [4245, 4751, 4629, 3632],\n",
       " [3978, 3316, 1042, 2659, 4133, 2003, 3778, 3668, 4298, 4690],\n",
       " [4497, 1846, 4629, 4935, 3668, 4298, 4690],\n",
       " [4522, 3648, 1735, 4595, 4241, 3361, 3668, 4298, 4690],\n",
       " [2437, 1823, 2803, 1937, 3189, 3639, 1000, 4741, 1690, 2654],\n",
       " [1741, 337, 3342, 4812, 3757, 4471, 3668, 4298, 4690],\n",
       " [3663, 3800, 4822, 2075, 787, 4354, 2574, 2485, 1266, 1352],\n",
       " [2964, 342, 691, 3757, 2728, 1540],\n",
       " [3048, 4281, 2700, 1057, 1643, 2149, 3291, 3800],\n",
       " [2654, 199, 4889, 3800, 4022, 3517, 1318, 3544, 3668, 4298, 4690],\n",
       " [3468, 1280, 1204, 1845, 1284, 1602, 2795, 4310, 3668, 4298, 4690],\n",
       " [698, 1896, 2450, 3668, 4298, 4690],\n",
       " [4849, 3490, 4741, 3543, 3777, 3668, 4298, 4690],\n",
       " [4690, 2574, 4594, 3668, 4298, 4690],\n",
       " [2579, 3233, 841, 2831, 4455, 3617, 3572, 4658, 991, 3668, 4298, 4690],\n",
       " [3309, 4107, 2063, 3855, 4817, 686, 1957, 1687],\n",
       " [904, 2070, 3165, 2396, 4354, 3792, 4915, 4146],\n",
       " [4794, 1821, 2497, 1120, 1284, 4415, 1448, 3668, 4298, 4690],\n",
       " [3800, 4291, 1369, 4231, 3559, 2822, 433, 3212, 1352],\n",
       " [531, 112, 1803, 462, 366, 1164],\n",
       " [2381, 3800, 101, 2574, 778, 2628, 2274, 3668, 4298, 4690],\n",
       " [4513, 3380, 513, 3948, 2970, 496, 2950, 2400],\n",
       " [4049, 110, 3466, 487, 4754, 3668, 4298, 4690],\n",
       " [1596, 2307, 3886, 4828, 545, 2077, 3668, 4298, 4690],\n",
       " [1634, 3639, 4213, 3800, 1594, 3611, 509],\n",
       " [1266, 3138, 3897, 3378, 2164, 1033, 3285, 4670, 3668, 4298, 4690],\n",
       " [2155, 3238, 3800, 2719, 3011, 515, 3668, 4298, 4690],\n",
       " [4689, 3800, 2280, 35, 1016, 127],\n",
       " [928, 2831, 2582, 1385, 3609, 596, 1329, 3618, 3668, 4298, 4690],\n",
       " [1449, 4915, 1566, 2437, 2274, 2083, 4789],\n",
       " [1957, 4949, 3065, 2539, 839, 3668, 4298, 4690],\n",
       " [3800, 1907, 4992, 4509, 671, 4049, 3668, 4298, 4690],\n",
       " [3757, 2210, 2637, 3215, 1119, 3967, 3822, 1834],\n",
       " [3156, 4354, 2577],\n",
       " [2485, 187, 3004, 376, 2556, 3226, 4557, 3668, 4298, 4690],\n",
       " [1938, 1544, 2261, 2895, 4289, 3517, 2856, 474, 3977, 4663, 97, 1352],\n",
       " [4689, 3800, 134, 3880, 2147, 1500, 4092, 2978, 4722, 4339, 3668, 4298, 4690],\n",
       " [767, 3138, 3604, 3333, 3674, 3668, 4298, 4690],\n",
       " [2461, 3437, 1053, 402, 3238, 615, 3668, 4298, 4690],\n",
       " [4689,\n",
       "  3800,\n",
       "  3297,\n",
       "  3233,\n",
       "  3775,\n",
       "  3632,\n",
       "  358,\n",
       "  1747,\n",
       "  2045,\n",
       "  2063,\n",
       "  3192,\n",
       "  4088,\n",
       "  3889,\n",
       "  3668,\n",
       "  4298,\n",
       "  4690],\n",
       " [2325, 3073, 3800, 2950, 1969, 75, 3668, 4298, 4690],\n",
       " [1215, 3413, 2501, 127, 3469, 3814],\n",
       " [3800, 301, 121],\n",
       " [4828, 2638, 2246, 2822, 4639, 603, 1352],\n",
       " [2068, 4363, 3868, 70, 4510, 4424, 4901, 3800, 4426, 1042, 4661, 4547, 2830],\n",
       " [3422, 3055, 3109, 3930, 332, 1697, 1834],\n",
       " [1741, 3693, 3337, 1139, 2804, 2437],\n",
       " [1005, 1311, 3041, 1006, 2452],\n",
       " [766, 4509, 3745, 4977, 524, 596, 4151, 4926, 4666, 2993, 3668, 4298, 4690],\n",
       " [2082, 3632, 358, 3290, 1352],\n",
       " [4167, 4604, 4949, 2151, 2177, 2559, 2894, 4814, 4948],\n",
       " [2277, 467, 2582, 4797, 4607, 923, 3338, 632],\n",
       " [4895, 3124, 4146, 4882],\n",
       " [2612, 3111, 2180, 3865, 3653, 4935, 3822, 1541],\n",
       " [3228, 1891, 554, 1946],\n",
       " [3561, 2700, 1864, 301, 2357, 2538, 4438, 4285],\n",
       " [3524],\n",
       " [1784, 1454, 1823, 4690, 344, 217, 3668, 4298, 4690],\n",
       " [3800, 1059, 2163, 2193, 2556, 3469],\n",
       " [1165, 2678, 3395, 2544, 1871, 3668, 4298, 4690],\n",
       " [2413, 2156, 4871, 3178, 4475, 4509, 3800, 221],\n",
       " [363, 4671, 3342, 3086, 3011, 3800, 198],\n",
       " [3530, 1398, 1868, 4276, 2538, 3800, 2031, 1352],\n",
       " [1221, 2700, 439, 4376, 4544, 4819, 3281, 101, 3668, 4298, 4690],\n",
       " [817, 78, 1028],\n",
       " [1218, 1725, 1664, 691, 3738, 3668, 4298, 4690],\n",
       " [4440, 3803, 2088, 987, 4737, 378, 77, 4940, 4805, 1352],\n",
       " [2129, 1317, 332, 2399, 3725, 2099, 2871, 2013, 3668, 4298, 4690],\n",
       " [1864, 3632, 1747, 2431, 1197, 4867, 4146],\n",
       " [431, 3824, 569, 4426, 3532, 656, 2228, 2795, 3971, 1683, 1957],\n",
       " [3632, 3303, 2934, 981, 3858],\n",
       " [3779, 4882, 3800, 4234, 2624, 953, 2646, 3668, 4298, 4690],\n",
       " [4856, 928, 3238, 185, 2852, 3908, 3668, 4298, 4690],\n",
       " [603, 763, 1688, 1897, 1297, 4856],\n",
       " [4735, 2334, 75, 777, 1138, 4856, 4079, 3668, 4298, 4690],\n",
       " [3854, 3835, 777, 4805, 2508, 3351, 3351],\n",
       " [1028, 4024, 282, 1995, 1225, 691, 3668, 4298, 4690],\n",
       " [1639, 762, 2801, 3011, 1639, 2859, 1067, 1543],\n",
       " [2640, 539, 548, 487, 4916, 2382, 2382, 3889, 1537, 3908],\n",
       " [2934, 2197, 1018, 832, 23, 1511, 1352],\n",
       " [3263, 2184, 4509, 2018, 1823, 2466, 2424, 2464, 3668, 4298, 4690],\n",
       " [218, 4948, 168, 4024, 2906, 3770],\n",
       " [2052, 1930, 4777, 577, 170, 4224, 2434, 2964, 4193, 4948, 1352],\n",
       " [198, 4843, 669, 1978, 4426, 2016, 3920, 3337],\n",
       " [35, 4554, 2156, 509, 3678],\n",
       " [3800, 1321, 2865, 1735, 1438, 4093, 1864, 3333, 3939, 3668, 4298, 4690],\n",
       " [409, 2162, 4830, 3800, 3025, 4495, 35, 3678, 1352],\n",
       " [4182, 1654, 127, 3800],\n",
       " [2786, 2153, 4354, 1266, 3940, 444, 567],\n",
       " [4581, 1426, 4096, 2453, 3071, 1490, 1764, 3192, 4049],\n",
       " [1780, 2156, 1602, 2574, 3800, 2370],\n",
       " [1864, 2848, 4689, 3800, 1514, 4271, 2678, 447, 2414, 3630, 3668, 4298, 4690],\n",
       " [1957, 4885, 4193, 3559, 800, 4978, 24, 2453, 4447, 768, 3668, 4298, 4690],\n",
       " [447, 3666, 4423, 3290, 3290, 3290, 3668, 4298, 4690],\n",
       " [300, 4553, 3797, 480, 3559, 1529, 1206, 3684],\n",
       " [3632, 4631, 1633, 3817, 3632, 3674, 665, 400, 403],\n",
       " [18, 2083, 3749, 2871, 1871, 3668, 4298, 4690],\n",
       " [513, 1946, 1322, 3502, 2579, 2107, 2144, 4011, 3668, 4298, 4690],\n",
       " [3800,\n",
       "  1897,\n",
       "  2513,\n",
       "  4582,\n",
       "  2579,\n",
       "  3058,\n",
       "  4831,\n",
       "  1091,\n",
       "  2142,\n",
       "  1462,\n",
       "  2950,\n",
       "  1457,\n",
       "  1352],\n",
       " [474, 3200, 3936, 2546, 4925, 3896],\n",
       " [3639, 306, 1636, 3545, 3342, 3632, 3780, 2538],\n",
       " [4570, 1645, 3373, 4948, 3520, 3668, 4298, 4690],\n",
       " [3659, 3294, 2197, 3307, 3723, 857, 3800, 4213, 1352],\n",
       " [940, 1245, 1398, 4483, 892, 2118, 2427, 3800, 3668, 4298, 4690],\n",
       " [4682, 3166, 691, 2090, 1779, 3668, 4298, 4690],\n",
       " [2197, 2925, 358, 3858, 1847, 4751, 4416, 2764, 3668, 4298, 4690],\n",
       " [2259, 790, 2579, 2418, 4365, 4640, 119, 3936, 697, 2414, 2064, 4968],\n",
       " [3796, 3993, 3580, 298, 1298, 1993, 4246, 3668, 4298, 4690],\n",
       " [2156, 919, 928, 512, 4789, 1735],\n",
       " [4193, 3762, 4887, 1857, 235, 3067],\n",
       " [3487,\n",
       "  2904,\n",
       "  3668,\n",
       "  4298,\n",
       "  4690,\n",
       "  1438,\n",
       "  1891,\n",
       "  4363,\n",
       "  3117,\n",
       "  4902,\n",
       "  997,\n",
       "  3716,\n",
       "  568,\n",
       "  3668,\n",
       "  4298,\n",
       "  4690],\n",
       " [3949, 3788, 1946, 3086, 358, 3407, 4689, 3800, 221, 1352],\n",
       " [2034, 919, 1864, 1563, 1161, 3005, 1460, 378, 3614, 2156, 1352],\n",
       " [2089, 627, 2338, 2413, 3668, 4298, 4690],\n",
       " [2134, 2740, 3927, 3485, 2197, 2427, 1426],\n",
       " [2906,\n",
       "  441,\n",
       "  3814,\n",
       "  2068,\n",
       "  3814,\n",
       "  714,\n",
       "  4568,\n",
       "  3566,\n",
       "  2399,\n",
       "  2667,\n",
       "  2139,\n",
       "  619,\n",
       "  1206,\n",
       "  3337],\n",
       " [2156, 774, 1385, 3738, 4593, 4354, 928, 2163, 3668, 4298, 4690],\n",
       " [1267, 2357, 4645, 655, 3800, 1823, 3413, 1043, 607, 1225, 1352],\n",
       " [3227, 1133, 1543, 4856, 2574, 2424, 1611, 1352],\n",
       " [3468, 1947, 4116, 2151, 4013, 3422, 4819, 514],\n",
       " [908, 3462, 3307, 253, 2470, 976, 3843],\n",
       " [3459, 2150, 3825, 3632, 3674, 168, 487, 168, 4497],\n",
       " [4114, 4978, 1557, 4455, 3668, 4800, 1133, 3668, 4298, 4690],\n",
       " [1891, 1633, 1585, 3292, 1838, 4445, 2934, 3794, 2921],\n",
       " [3333, 3674, 4805, 2110, 2220, 122, 2862, 1352],\n",
       " [308, 2197, 2047, 3138, 2895, 433, 4235, 2862, 1352],\n",
       " [1493, 3926, 3712, 4475, 3483, 581, 1532, 4339, 639, 2116],\n",
       " [358, 301, 2735, 513, 3868, 4278, 669, 3373, 42, 2417, 1030, 1198],\n",
       " [1864, 903, 2187, 956, 2544, 3800, 3668, 4298, 4690],\n",
       " [2912, 4915, 599, 2008, 4551, 1821, 4977, 3668, 4298, 4690],\n",
       " [2652, 2544, 729, 514, 3888, 1684, 504, 4519, 2851],\n",
       " [914, 1032, 1718, 2929, 2],\n",
       " [750, 3800, 4367, 619, 4455, 2259, 122, 1352],\n",
       " [42, 1552, 4690, 1735, 3668, 4298, 4690],\n",
       " [3913, 4363, 580, 929, 4193, 4312, 349, 329, 3091, 4738, 53],\n",
       " [4509, 729, 1299, 248, 1561, 2334, 75, 3668, 4298, 4690],\n",
       " [1738, 1914, 194, 3725, 1769, 47, 1352],\n",
       " [4156, 592, 1402, 3855, 3800, 4952, 1352],\n",
       " [3800, 1594, 430, 2453],\n",
       " [3378, 35, 1620, 1004, 1353, 3668, 4298, 4690],\n",
       " [1864, 708, 2538, 1707, 3926, 2913, 2163, 4355, 1646, 3668, 4298, 4690],\n",
       " [3668, 3719, 3835, 2288, 1154, 4227, 3609, 2213, 1166, 3668, 4298, 4690],\n",
       " [621, 3983, 1133, 1957, 1535, 3855, 4135, 1138, 1352],\n",
       " [1116, 2892, 1697, 2274, 4510, 4752],\n",
       " [639, 3124, 3668, 4298, 4690],\n",
       " [2307, 1794, 1864, 3550, 3163, 4298, 366, 646],\n",
       " [4907, 4328, 639, 4216, 4194, 2990, 1178, 479, 1510, 1352],\n",
       " [4749, 655, 64, 47, 3668, 4298, 4690],\n",
       " [4213,\n",
       "  2357,\n",
       "  1439,\n",
       "  3800,\n",
       "  4978,\n",
       "  4650,\n",
       "  2667,\n",
       "  3814,\n",
       "  4970,\n",
       "  3949,\n",
       "  3681,\n",
       "  4818,\n",
       "  1352],\n",
       " [4092, 1576, 834, 571, 1576, 2825, 2482, 1576],\n",
       " [3338, 3304, 929, 2493, 4354, 4763, 2445, 3668, 4298, 4690],\n",
       " [3711, 1789, 2873, 2591, 1620, 2708],\n",
       " [3023, 903, 4902, 3165, 4619, 1868, 1654, 3285, 3217],\n",
       " [847, 1891, 554, 1946],\n",
       " [3800, 221, 3979, 1735, 916, 767, 4856, 1352],\n",
       " [3800, 119, 2513, 2452, 467, 3855, 4441, 1713, 3668, 4298, 4690],\n",
       " [2363, 4895, 3483, 581, 1267, 4028, 4363, 1352],\n",
       " [904, 301, 3240, 995, 90, 3777, 3302],\n",
       " [1864, 3632, 358, 1563, 3517, 3814, 1082, 2906],\n",
       " [1927, 3025],\n",
       " [2739, 1955, 1386, 3422, 1078, 1697, 1980],\n",
       " [1186, 2913, 2574, 3182, 4737, 544, 4650, 3668, 4298, 4690],\n",
       " [2271, 4818, 2424, 3265, 4925, 3211, 3896, 3668, 4298, 4690],\n",
       " [1508, 114, 1888, 3800, 2115, 2502, 1093, 4714, 4489, 2014],\n",
       " [3500, 361, 2811, 4393, 4856, 3604, 4531, 2811, 3412, 3762],\n",
       " [257, 4909, 282, 2828, 2362, 403, 839, 3668, 4298, 4690],\n",
       " [1639, 3642, 1410, 3825, 4072, 2906, 1514, 3568, 3993, 1549, 4354, 2127],\n",
       " [2118],\n",
       " [2493, 2667, 722, 3825, 1040, 3133, 4146, 4135, 1457, 1352],\n",
       " [1584,\n",
       "  4230,\n",
       "  4900,\n",
       "  3965,\n",
       "  4857,\n",
       "  4629,\n",
       "  502,\n",
       "  4354,\n",
       "  4935,\n",
       "  2319,\n",
       "  2164,\n",
       "  3668,\n",
       "  2553,\n",
       "  4918],\n",
       " [2493, 2667, 2786, 928, 3223, 2318, 3368, 4146, 4540, 1888],\n",
       " [1541, 2613, 3383, 4455, 1117, 2199, 3366, 3163, 2894],\n",
       " [2485, 859, 3855, 1398, 3041, 2875],\n",
       " [3668, 3717, 3630, 736, 1823, 4075, 2379, 1094],\n",
       " [1035, 1103, 555, 4627, 3947, 302, 3307, 1815, 4494, 1352],\n",
       " [3087, 591, 92, 1438],\n",
       " [3234, 1172, 4367, 3426, 2712, 3992, 912, 3668, 4298, 4690],\n",
       " [3855, 3200, 1847, 621, 4594, 3607, 2536, 3668, 4298, 4690],\n",
       " [2264, 4724, 2577, 3579, 1311, 2363],\n",
       " [47, 3668, 4298, 4690],\n",
       " [928, 3307, 2653, 1262, 366, 4952],\n",
       " [4440, 3803, 1847, 4355, 1615, 2733, 2206, 4790, 4114, 1854, 3694],\n",
       " [94, 598, 101, 2950, 2579, 3903, 2249],\n",
       " [996, 2743, 4453, 1946, 4140, 3668, 4298, 4690],\n",
       " [3632, 358, 2293, 474, 1866, 1051, 981, 1592, 1018],\n",
       " [4895, 4154, 1976, 3378, 3226, 4822, 3668, 4298, 4690],\n",
       " [1209, 3814, 3605, 2025, 2335],\n",
       " [2574, 402, 1794, 4354, 929, 2554, 1266],\n",
       " [2764, 3056, 1697, 4525, 2641, 788, 3480, 4395, 4607, 3668, 4298, 4690],\n",
       " [4354, 1826, 2689, 3954, 4146, 3443, 4531, 1595],\n",
       " [4799, 1741, 1830, 1549, 1593, 2177, 47, 3668, 4298, 4690],\n",
       " [1334, 587, 1905, 3462, 1617, 656, 3124, 587, 4278, 1352],\n",
       " [1834, 3252, 4065, 2650, 3469, 2075, 4214, 1936, 206, 2004],\n",
       " [2112, 2035, 4855, 1864, 3800, 1747, 3738, 3631, 2206],\n",
       " [4096, 2716, 4345, 223, 3814, 589, 4547, 2286, 3668, 4298, 4690],\n",
       " [2906, 3261, 3494, 2414, 2332, 1186, 1082, 3908],\n",
       " [4196, 124, 3533, 487, 2579, 2123, 1352],\n",
       " [385, 777, 2735, 3668, 4298, 4690],\n",
       " [912, 1615, 4645, 3684, 621, 1586, 1600, 1352],\n",
       " [3168, 4538, 696, 3668, 4298, 4690],\n",
       " [4354, 3313, 1133, 402, 3642, 338, 1266, 2437, 3814, 3888, 431, 4491],\n",
       " [3668, 358, 3858, 4671, 2908, 4738, 223, 1051, 981],\n",
       " [756, 1232, 1133, 4554, 3869, 2745, 1823, 1897, 3668, 4298, 4690],\n",
       " [2539, 3908, 3668, 4298, 4690],\n",
       " [3328, 4075, 1061, 4351, 3668, 4298, 4690],\n",
       " [4475, 1864, 2498, 3297, 403, 4495, 1352],\n",
       " [3315, 3342, 3088, 2070, 4250, 3668, 3922, 2163, 3668, 4298, 4690],\n",
       " [282, 1611, 4453, 47, 3668, 4298, 4690],\n",
       " [4766, 3704, 2596, 2205, 3487, 3668, 4298, 4690],\n",
       " [4653, 4734, 3800, 2721, 654, 1041, 3668, 4298, 4690],\n",
       " [1498,\n",
       "  2795,\n",
       "  4832,\n",
       "  1726,\n",
       "  3757,\n",
       "  2063,\n",
       "  928,\n",
       "  467,\n",
       "  4900,\n",
       "  4005,\n",
       "  2952,\n",
       "  248,\n",
       "  174,\n",
       "  4580],\n",
       " [4856, 474, 1896, 4264, 539, 379, 3413, 1352],\n",
       " [4538, 111, 84, 248, 1077, 3327, 2789, 3668, 4298, 4690],\n",
       " [474, 3200, 1684, 3186, 3459, 2582],\n",
       " [3373, 42, 4444, 3868, 3858, 4230, 3532, 410, 1717],\n",
       " [4689, 3800, 1782, 1267, 2856, 3212, 127, 3814, 402, 3668, 4298, 4690],\n",
       " [3252, 248, 775, 4590, 1313, 4354, 3217, 332, 411, 2164],\n",
       " [3738, 3163, 2044, 4644, 1298, 2015, 1043],\n",
       " [928, 3618, 2964, 2737, 3998, 2633, 3716, 2613, 3699, 691, 1713, 1352],\n",
       " [2990, 4445, 2934, 2900, 1146, 2574, 4056, 2993],\n",
       " [4438, 1514, 3568, 3790, 2352, 2127, 246, 402, 3073, 3688],\n",
       " [3632, 3342, 4689, 3800, 2574, 4084, 1018],\n",
       " [4384, 3800, 778, 958, 3843, 832, 4118, 4834, 3800, 1352],\n",
       " [4451, 1907, 3969, 283, 4213, 3078, 4306, 1053, 4497, 3668, 4298, 4690],\n",
       " [3800, 2978, 2406, 194, 4096, 3316, 1311, 2906, 4568, 3668, 4298, 4690],\n",
       " [4689, 3800, 692, 3287, 2192, 1686, 1697, 4208, 4431, 3107],\n",
       " [1188, 2202, 759, 3419, 945, 1500],\n",
       " [1266, 2579, 762, 4722, 2691, 3599, 1267, 578, 179],\n",
       " [4441, 1878, 1004, 1543, 3177, 430],\n",
       " [3949, 777, 4051, 1888, 3138, 2654, 3668, 4298, 4690],\n",
       " [2546, 1794, 2278, 3559, 1069, 4978, 4625, 2193, 581],\n",
       " [1334, 1764, 4971, 1864, 1544, 4146, 1595, 1543],\n",
       " [1725, 327, 638, 3600, 4235, 1689, 3668, 4298, 4690],\n",
       " [2963, 3617, 2950, 444, 967, 116, 2364, 4088, 736],\n",
       " [3651, 3167, 2979, 2220, 4303, 687, 1856, 4011, 3632, 358, 2335, 219, 2577],\n",
       " [3517, 4619, 1794, 1846, 4856, 487, 2008, 3668, 4298, 4690],\n",
       " [3022, 1794, 3177, 3510, 358, 3086],\n",
       " [3800, 2978, 3896, 2437, 2052, 815, 1059, 3668, 4298, 4690],\n",
       " [788, 1951],\n",
       " [3800, 3694, 2503, 1821, 2737, 4193, 1053, 2445, 4965, 4978, 3838, 4783, 198],\n",
       " [1329, 1441, 928, 3738, 1683],\n",
       " [1043, 3945, 2318, 3579, 198],\n",
       " [4453, 1452, 4146, 3644, 2667, 3304, 3891],\n",
       " [1498,\n",
       "  1847,\n",
       "  3511,\n",
       "  3627,\n",
       "  1636,\n",
       "  2156,\n",
       "  3158,\n",
       "  3814,\n",
       "  648,\n",
       "  1847,\n",
       "  3511,\n",
       "  3627,\n",
       "  1636,\n",
       "  2156,\n",
       "  3158,\n",
       "  3814,\n",
       "  648,\n",
       "  3668,\n",
       "  1004,\n",
       "  2363],\n",
       " [4170, 3814, 4997, 2453, 4444],\n",
       " [2858, 300, 4925, 1947, 1419, 2116],\n",
       " [2493, 2485, 1846, 1018, 4416, 1638, 433, 3179, 3908, 4882, 4789, 2577],\n",
       " [3233, 3490, 4689, 3800, 2465, 2598, 3413, 372, 3668, 4298, 4690],\n",
       " [1267, 2945, 2844, 3942, 2163, 4297, 2820, 2565, 2966, 2544, 1841, 1352],\n",
       " [3259, 474, 400, 1887, 691],\n",
       " [474,\n",
       "  2436,\n",
       "  1864,\n",
       "  4553,\n",
       "  3413,\n",
       "  1864,\n",
       "  1957,\n",
       "  3669,\n",
       "  295,\n",
       "  4887,\n",
       "  2916,\n",
       "  1729,\n",
       "  4164,\n",
       "  2008,\n",
       "  804,\n",
       "  198],\n",
       " [4175, 4629, 3630, 4438],\n",
       " [4227, 4856, 4509, 358, 3599, 402, 2399],\n",
       " [3800, 603, 4389, 4714, 3668, 2553, 4918],\n",
       " [1375, 345, 1797, 101, 358, 3800, 4271, 3366, 3668, 4298, 4690],\n",
       " [3796, 53, 35, 4720, 1486, 3635, 480, 3668, 4298, 4690],\n",
       " [1823, 1644, 21, 1007, 2515, 2156, 3531, 4738, 540, 2646],\n",
       " [1448, 3285, 78, 3163, 4298, 366, 4952],\n",
       " [1648, 70, 3688, 2186, 4965, 4625, 3133, 4096, 3163],\n",
       " [86, 3309, 2288, 4945, 1194, 4952, 4068, 3307, 2779, 3270, 1352],\n",
       " [3976, 3226, 2608, 3480, 128, 787],\n",
       " [1250, 3608, 4334, 3430, 2950, 3469, 2139],\n",
       " [4407, 1841, 3157, 3987, 1385, 82, 169, 3926],\n",
       " [1989, 3800, 1643, 4496, 1766, 3668, 4298, 4690],\n",
       " [1449,\n",
       "  3124,\n",
       "  2783,\n",
       "  4459,\n",
       "  2811,\n",
       "  2414,\n",
       "  4281,\n",
       "  4092,\n",
       "  3639,\n",
       "  1475,\n",
       "  3437,\n",
       "  1891,\n",
       "  1383],\n",
       " [4618, 2714, 3600, 3800, 2452, 1495, 4800, 1027],\n",
       " [402, 656, 3800, 2251, 857, 2138, 2290, 2024, 3678],\n",
       " [1877, 230, 1146, 4471, 1294, 1595, 4535, 3190, 3993, 3668, 4298, 4690],\n",
       " [1252, 2943, 77, 2544, 4741, 4035, 4227, 2090, 483, 3668, 4298, 4690],\n",
       " [474, 3200, 3985, 452, 806, 2052, 2865, 4006, 4133, 568],\n",
       " [2700,\n",
       "  929,\n",
       "  1442,\n",
       "  4223,\n",
       "  3469,\n",
       "  1153,\n",
       "  3967,\n",
       "  365,\n",
       "  424,\n",
       "  4310,\n",
       "  3800,\n",
       "  3967,\n",
       "  3822,\n",
       "  1352],\n",
       " [2188, 3842, 1638, 4553, 3532, 1643],\n",
       " [3568, 3668, 4298, 928, 246, 77, 4800, 1133, 3668, 4298, 4690],\n",
       " [3800, 1018, 349, 3146, 4811, 2551, 3668, 198, 925, 928, 2607],\n",
       " [548, 1121, 101, 4440, 2007, 1931, 928, 473, 3668, 4298, 4690],\n",
       " [3778, 3800, 4817, 402, 2163, 3908, 1823, 74, 4010, 1352],\n",
       " [420, 402, 701, 1764, 3712, 1689, 298, 2437, 4478, 420, 402],\n",
       " [3530, 2622, 2363, 4005, 246, 3279, 1766, 1352],\n",
       " [3908, 1280, 2950, 3967],\n",
       " [767,\n",
       "  2811,\n",
       "  738,\n",
       "  4949,\n",
       "  2963,\n",
       "  445,\n",
       "  4353,\n",
       "  172,\n",
       "  3824,\n",
       "  786,\n",
       "  578,\n",
       "  1142,\n",
       "  2574,\n",
       "  2163,\n",
       "  1352],\n",
       " [4486, 446, 2544, 198, 4742, 519, 2186, 3668, 4298, 4690],\n",
       " [212, 2138, 4843, 1201, 4447, 194, 3777, 3986, 2922],\n",
       " [3868, 3350, 4088, 4570, 3858],\n",
       " [889, 4565, 4761, 52, 3285, 1946],\n",
       " [4653, 2271, 4546, 4653, 2094, 1704, 3632, 1148, 3800, 4546, 1438],\n",
       " [3936, 686, 2396, 4967, 4737, 4800, 219, 2090, 762, 198],\n",
       " [3632, 358, 1957, 847, 1604, 2116, 847, 2577, 1633, 3668, 4298, 4690],\n",
       " [4354, 3137, 3190, 2107, 3042, 4114, 2286, 4026],\n",
       " [2574, 2894, 1305, 3538, 333, 4227, 1766, 2577, 3413, 2128],\n",
       " [3234, 569, 3342, 1733, 2280, 4292, 2320, 2906, 805, 3085, 4306, 1352],\n",
       " [1161, 3005, 3609, 1477, 698, 1018, 3668, 4298, 4690],\n",
       " [168, 3800, 2156, 286, 3337, 1116],\n",
       " [4805, 358, 1026, 4455, 3194, 3632, 4671],\n",
       " [1266,\n",
       "  4000,\n",
       "  1616,\n",
       "  4297,\n",
       "  93,\n",
       "  153,\n",
       "  3490,\n",
       "  1276,\n",
       "  3930,\n",
       "  3340,\n",
       "  1358,\n",
       "  2522,\n",
       "  3963,\n",
       "  1459,\n",
       "  3320],\n",
       " [1782, 3777, 4802, 1454, 4019, 916, 1120, 3668, 4298, 4690],\n",
       " [4856, 3800, 462, 4049, 4629, 128, 4088, 3579, 1352],\n",
       " [4805, 358, 606, 3483, 2319, 2792, 35, 2445, 336, 1864, 474],\n",
       " [4287, 917, 732, 1638, 498, 3532, 2197, 1865, 1006],\n",
       " [315, 3800, 1604, 3413],\n",
       " [767, 1294, 4521, 4045, 3572, 3910, 1398, 4206, 3668, 4298, 4690],\n",
       " [1343, 4973, 987, 3657, 1196, 212, 2770, 502, 3668, 4298, 4690],\n",
       " [3138, 2822, 353, 171, 1357, 1265, 1352],\n",
       " [3910, 2830, 2280, 4441, 2607, 4292, 3630, 3701, 3668, 4298, 4690],\n",
       " [2142, 2504, 3800, 1018, 4944, 4169, 280, 413, 2011],\n",
       " [3855, 4714, 3800, 1878, 799, 1953, 1981, 3234, 569, 2461],\n",
       " [2817, 222, 1060, 1225],\n",
       " [3800, 2910, 4107, 4718, 4028, 2363, 3469, 4312, 1352],\n",
       " [548, 1121, 3739, 218, 353, 4069, 3656, 1644, 3668, 4298, 4690],\n",
       " [3003, 4256, 4250, 4834, 3419, 1029, 3668, 4298, 4690],\n",
       " [1409, 2436, 4553, 372, 1554, 4451, 3668, 4298, 4690],\n",
       " [777, 4817, 4998, 4551, 3339, 2257, 2068, 2579, 3091, 3668, 4298, 4690],\n",
       " [2156, 1279, 168, 1060, 2582, 3304, 3674, 1739, 3668, 4298, 4690],\n",
       " [1172, 2910, 3134, 1002, 2829, 1266, 1028, 2013, 3668, 4298, 4690],\n",
       " [2164, 4040, 2684, 2634, 617, 3983, 379, 35, 181],\n",
       " [4689, 3800, 1864, 2912, 4139, 75, 3668, 4298, 4690],\n",
       " [],\n",
       " [3987, 121, 35, 3678, 3240, 2150],\n",
       " [1190, 3555, 1104, 4790, 3711, 2830, 4444, 2227, 3177],\n",
       " [1448, 2045, 4088, 3668, 474],\n",
       " [1498, 928, 3842, 1383, 4712, 3632, 3762, 2875, 3215],\n",
       " [1648, 70, 4524, 4945, 4701, 3234, 569, 3632, 358],\n",
       " [3800, 4172, 4194, 4339, 402, 3668, 4298, 4690],\n",
       " [1810, 1759, 3200, 4250, 3800, 2577, 4088, 4796, 2667],\n",
       " [4967, 119, 2052, 1868, 3333, 700, 2482, 3668, 4298, 4690],\n",
       " [2950, 4092, 1878, 3290, 474, 1352],\n",
       " [3469, 3814, 1684, 3967, 487],\n",
       " [3545, 3134, 736, 428, 698, 3545, 248, 4629, 4574, 118, 371, 2859, 4909],\n",
       " [1221, 1139, 2019, 3668, 4298, 4690],\n",
       " [3290, 444, 1812, 1978, 3668, 4298, 4690],\n",
       " [3422,\n",
       "  341,\n",
       "  3673,\n",
       "  1697,\n",
       "  4746,\n",
       "  596,\n",
       "  3652,\n",
       "  4096,\n",
       "  4400,\n",
       "  3539,\n",
       "  2210,\n",
       "  786,\n",
       "  60,\n",
       "  1697,\n",
       "  2379,\n",
       "  4783,\n",
       "  4208,\n",
       "  2627],\n",
       " [4213, 1438, 3668, 12, 4856, 3559, 472, 1299, 488, 1906, 1352],\n",
       " [4915, 3182, 3000, 4354, 2701, 3682, 2938, 1352],\n",
       " [101, 1266, 3614, 3787, 2466, 290, 2677, 396, 2083, 2795, 3971],\n",
       " [2854, 4571, 1937, 2962, 1917, 3053, 805, 2895, 1200, 1097, 3167, 2181, 1352],\n",
       " [2761, 816, 3684, 4158, 2220, 1980, 2904, 4817, 683],\n",
       " [3532, 2873, 1616, 3346, 94, 2452, 2579, 2544, 3788, 2978, 3678, 1352],\n",
       " [997, 1045, 1495, 2437, 3124, 3988],\n",
       " [2606, 4167, 4522, 810, 1043, 3890, 2090, 3780, 2895, 1352],\n",
       " [2410, 2845, 3678, 3445, 402, 1856, 4210],\n",
       " [2692, 419, 2437, 3757, 3668, 4298, 4690],\n",
       " [2941, 4689, 3800, 1362, 829, 3257, 75, 3668, 4298, 4690],\n",
       " [57, 3632],\n",
       " [2266, 4291, 1018, 2288, 4468, 3668, 4298, 4690],\n",
       " [1498, 741, 1896, 962, 4798],\n",
       " [2036, 358, 4625, 2646],\n",
       " [548, 1620, 1733, 603, 3342, 3800, 3668, 4298, 4690],\n",
       " [1321, 1616, 474, 3200, 2547, 1225, 3668, 4298, 4690],\n",
       " [3632, 358, 3984, 424, 118, 3668, 4298, 4690],\n",
       " [599, 4811, 3190, 429, 78, 4391, 910],\n",
       " [3800, 607, 987, 1889, 4065],\n",
       " [3632, 2413, 373, 53, 3065, 3757, 3544, 1053, 4565],\n",
       " [4231, 4965, 78, 2115, 3787, 3668, 4298, 4690],\n",
       " [238, 2213, 3134, 3827, 3675, 3668, 4298, 4690],\n",
       " [3800, 2116, 625, 101, 3855, 1522, 3668, 4298, 4690],\n",
       " [3796, 4826, 3286, 4068, 261, 4663, 968, 1070, 3668, 4298, 4690],\n",
       " [3438, 3394, 4096, 3316, 4553, 379, 774, 4900, 1823, 3668, 4298, 4690],\n",
       " [971, 3800, 2407, 1410, 4118, 1736, 4915, 1352],\n",
       " [3880, 2934, 358, 3858, 353, 3238, 2655, 2722, 2450, 3800, 469],\n",
       " [4607, 2792, 1437, 1299, 3592],\n",
       " [4509, 1979, 493, 3630, 4040, 3138, 3630, 2508, 4787, 1352],\n",
       " [529, 402, 4356, 722, 1383, 2577, 3308, 598, 98],\n",
       " [3389, 3190, 1053, 230, 4146, 3216, 2842],\n",
       " [3712, 3630, 2399, 4210, 1693, 2688, 4569, 3668, 4298, 4690],\n",
       " [4559, 2480, 4930, 2579, 3475, 2577],\n",
       " [3800, 316, 4639, 403, 4856, 474, 1866, 3138, 3510],\n",
       " [2056, 3800, 1133, 1532, 1437, 3757, 1225, 1352],\n",
       " [3971, 3413, 4856, 2167, 841, 4540, 1888, 3908, 487, 4689, 3800],\n",
       " [4011, 235, 2577],\n",
       " [],\n",
       " [1448, 3285, 78, 168, 3163, 4298, 366, 4952],\n",
       " [2654, 3389, 4666, 2993, 2634, 1206, 3530, 722],\n",
       " [858, 1374, 1401, 288, 2879, 2466, 1810, 4948, 3723],\n",
       " [736, 4292, 3632, 358, 4751],\n",
       " [2188, 400, 3192, 1153, 1686, 2286],\n",
       " [2577, 1279, 115, 3668, 4852],\n",
       " [3632, 4619, 4855, 1864, 1821],\n",
       " [4009,\n",
       "  403,\n",
       "  4051,\n",
       "  767,\n",
       "  2187,\n",
       "  4907,\n",
       "  1383,\n",
       "  3910,\n",
       "  4738,\n",
       "  222,\n",
       "  4494,\n",
       "  3668,\n",
       "  4298,\n",
       "  4690],\n",
       " [1498,\n",
       "  2370,\n",
       "  960,\n",
       "  3796,\n",
       "  713,\n",
       "  191,\n",
       "  2370,\n",
       "  960,\n",
       "  3796,\n",
       "  713,\n",
       "  191,\n",
       "  2919,\n",
       "  3648,\n",
       "  1425],\n",
       " [4689, 3800, 1543, 3271, 1954, 3257, 75, 3668, 4298, 4690],\n",
       " [2767, 2453, 4855, 1864, 4281, 3632, 3011, 1573, 940],\n",
       " [2910,\n",
       "  2427,\n",
       "  4455,\n",
       "  2786,\n",
       "  2452,\n",
       "  3635,\n",
       "  172,\n",
       "  2228,\n",
       "  238,\n",
       "  3378,\n",
       "  4455,\n",
       "  3333,\n",
       "  3674,\n",
       "  4069,\n",
       "  1352],\n",
       " [2794,\n",
       "  3511,\n",
       "  722,\n",
       "  3684,\n",
       "  2879,\n",
       "  3230,\n",
       "  3523,\n",
       "  1943,\n",
       "  4377,\n",
       "  2346,\n",
       "  3825,\n",
       "  1770,\n",
       "  4652,\n",
       "  1352],\n",
       " [3926, 2964, 3882, 2115, 1358],\n",
       " [4859, 1618, 2795, 731, 1098, 1298, 3668, 4298, 4690],\n",
       " [487, 2646, 1716, 4231, 2633, 2577],\n",
       " [148, 2911, 35, 2452, 4107, 3668, 633, 2414, 2959, 1767, 3356, 2099],\n",
       " [3800, 402, 3011, 4114],\n",
       " [3838, 4856, 1231, 4987, 2936, 919, 1433, 174],\n",
       " [2144, 1007, 2127, 3815, 3910, 63, 2525, 3668, 4298, 4690],\n",
       " [1018, 3843, 1789, 246, 2906, 4935, 3566, 198],\n",
       " [2264, 402, 2264, 2646, 4245, 2253],\n",
       " [3263, 2284, 2700, 747, 4363, 2437, 3814, 4722, 47, 3668, 4298, 4690],\n",
       " [3978, 486, 928, 3738, 3338, 2156, 1897, 1993, 4786, 3668, 4298, 4690],\n",
       " [3295, 3986, 2744, 3908, 1495, 1398, 4993, 4011],\n",
       " [4754, 1092, 928, 2869, 1771, 1057, 393, 3592, 3668, 4298, 4690],\n",
       " [4271, 433, 2632, 2795, 3971],\n",
       " [4607, 1322, 3200, 3956, 578, 3209, 4789, 474, 4250, 3668, 4298, 4690],\n",
       " [2523, 1292, 2616, 2859, 3483, 4069, 2163, 4024, 623],\n",
       " [3469, 3814, 587, 1385, 2358, 4796, 3800],\n",
       " [267, 2452, 4639, 4689, 3800, 1091, 4391, 4786],\n",
       " [1352, 4363, 1891, 4426, 1042, 1352],\n",
       " [3800, 2363, 787, 2604],\n",
       " [2493, 1283, 2946, 2163, 3449, 2076, 1439, 3657, 198, 1352],\n",
       " [2274, 3378, 1091, 4761, 52, 1565, 3800, 3668, 4298, 4690],\n",
       " [1029, 2605, 2634, 3337, 1685, 3678, 3736, 4965, 3668, 4298, 4690],\n",
       " [623, 1025, 47, 475, 2653, 1716, 3668, 4298, 4690],\n",
       " [4725, 488, 2452, 123, 2363, 603, 3800, 1352],\n",
       " [1686, 1190, 2445, 2677, 2575, 1007, 1190, 3511, 487],\n",
       " [4797, 3639, 3706, 4124, 1398, 2798],\n",
       " [1134, 3668, 3864, 3413],\n",
       " [1627, 3663, 2163, 1016, 4453, 4297],\n",
       " [3796, 2659, 3554, 4276, 1846, 3239, 1962, 3342, 3800, 3668, 4298, 4690],\n",
       " [3192, 4118],\n",
       " [1398, 2731, 3106],\n",
       " [3800, 777, 4807, 2274, 1636],\n",
       " [4948, 4325, 48, 2831, 916, 1408, 621, 2869, 3668, 4298, 4690],\n",
       " [1648, 4227, 603, 3668, 4298, 4663, 2624, 3668, 4298, 4690],\n",
       " [261, 3566, 3656, 2977, 4050, 940, 1352],\n",
       " [1097, 261, 1266, 168, 912, 4172, 3017, 3869, 3668, 4298, 4690],\n",
       " [2337, 4687, 1438, 4607, 3124, 639, 3668, 4298, 4690],\n",
       " [806, 2453, 3787, 3668, 4298, 4690],\n",
       " [3510, 1870, 3177, 3632, 2010, 1385, 747, 4213],\n",
       " [4805, 4381, 2871, 3800, 402, 3889, 4817, 3668, 2381, 3668, 4298, 4690],\n",
       " [3490, 2865, 1321, 21, 4689, 3800, 4572, 3668, 4298, 4690],\n",
       " [2072,\n",
       "  122,\n",
       "  3815,\n",
       "  3800,\n",
       "  2574,\n",
       "  3668,\n",
       "  2437,\n",
       "  4231,\n",
       "  2795,\n",
       "  777,\n",
       "  607,\n",
       "  1090,\n",
       "  806,\n",
       "  2260],\n",
       " [3902, 474, 3413, 2010, 3762, 1318, 3469, 1153, 1837, 4453, 1352],\n",
       " [4689, 3800, 4660, 708, 3309, 2164, 376, 3611, 4519, 86, 2288],\n",
       " [],\n",
       " [4805, 4216, 194, 3814, 2437, 1301, 259, 47, 3668, 4298, 4690],\n",
       " [2164, 2155, 3519, 1543, 3678, 3985, 2669, 3226, 3668, 4298, 4690],\n",
       " [1299, 3217, 4805, 1979, 786, 3855, 2485, 215],\n",
       " [1280, 4223, 4817, 3630, 2897, 47, 3668, 4298, 4690],\n",
       " [4116, 502, 4297, 4092, 3351, 1552, 2579, 2387, 1352],\n",
       " [1042, 4881, 4435, 3264, 3354, 537, 3409, 2738],\n",
       " [4213, 3878, 4467, 4509, 1907, 4049, 1603, 4854, 2399, 1907, 1352],\n",
       " [379, 2379, 4816, 93, 3559],\n",
       " [1053, 1841, 1924, 2115, 1573, 4586, 3668, 4298, 4690],\n",
       " [4643, 839, 2659, 2252, 127, 127, 358, 3668, 4298, 4690],\n",
       " [3800, 127, 1878, 3855, 3800, 2147, 2176, 1154, 3924],\n",
       " [4051, 1935, 2721, 2936, 3592, 4940],\n",
       " [3800, 1639, 2574, 2654, 1280, 3674, 1352],\n",
       " [2068, 4117, 4722, 147, 4468, 2035, 3124, 997, 3998, 206, 3888, 3860],\n",
       " [402, 1059, 736, 3342, 3800, 1594, 3894, 1821, 4133, 1018],\n",
       " [4800, 4823, 3156, 3502, 868, 2783, 3668, 4298, 4690],\n",
       " [2934, 358, 3858, 353, 3238, 2655, 2722, 2450, 3800, 469],\n",
       " [3632, 4640, 4712, 459, 4142, 1747],\n",
       " [987, 2934, 3130, 764, 2163, 2187, 3668, 4298, 4690],\n",
       " [1899, 4968, 4694, 987, 3656, 2116, 580, 3065, 2577, 1516, 512, 4789],\n",
       " [4805, 358, 1747, 4455, 3827, 3320, 4213, 3632, 2577],\n",
       " [204, 3678, 2101, 3331, 790, 88, 1633, 3668, 4298, 4690],\n",
       " [3800, 4399, 1028, 1266, 3655, 4441, 3668, 4298, 4690],\n",
       " [3978, 3819, 3762, 4146, 862, 3818, 786, 84, 70, 3668, 4298, 4690],\n",
       " [2103, 2165, 3047, 860, 2688, 3630],\n",
       " [3814, 1541, 3890, 1485, 2139, 603, 3290, 3688, 1076, 2286],\n",
       " [3426, 1643, 4903, 1228, 1907, 3855, 3800, 4817],\n",
       " [1686, 4938, 3855, 699, 3630],\n",
       " [1441, 928, 1905, 4505, 2199, 4663, 3285, 2164, 1821, 2399, 4739, 3662, 1352],\n",
       " [3138, 1098, 3228, 1475, 1667, 4857, 3526],\n",
       " [4992, 73, 121, 3350, 4495, 4509, 512, 4789],\n",
       " [1267,\n",
       "  3910,\n",
       "  987,\n",
       "  4737,\n",
       "  4940,\n",
       "  1053,\n",
       "  1938,\n",
       "  2176,\n",
       "  878,\n",
       "  1922,\n",
       "  4475,\n",
       "  3217,\n",
       "  3290,\n",
       "  1352],\n",
       " [2251, 2828, 4275, 4453, 3291, 4855, 1864],\n",
       " [3851, 4088, 1905, 3627, 4948, 3765, 4305, 568, 3668, 4298, 4690],\n",
       " [198, 3976, 3011, 3800, 1018, 349, 3757, 3913, 4363, 1252, 4250],\n",
       " [3568, 1747, 2274, 330, 3430],\n",
       " [2539, 3333, 1690, 3706],\n",
       " [3217, 4639, 2500, 3308, 1616, 2865, 3810, 3668, 4298, 4690],\n",
       " [1804, 1164, 23, 1771, 3293, 1516, 3668, 4298, 77, 3668, 4298, 4690],\n",
       " [2822, 4475, 373, 4948, 2579, 3472, 1266, 2764, 3668, 4298, 4690],\n",
       " [1329, 1681, 2052, 1048, 3738, 1252, 4139, 3668, 4298, 4690],\n",
       " [3333, 700, 1878, 1510, 3461, 4940, 3206, 1352],\n",
       " [3138, 1957, 686, 1043, 4828, 3365, 1016, 3657],\n",
       " [2396, 3814, 2700, 3228, 3064, 248, 3824, 1577, 219, 2461, 3699, 3572],\n",
       " [54, 2538, 3757, 3632, 358, 3757, 1623, 1926, 3734],\n",
       " [3217, 1121, 1374, 3348, 1864, 2381, 1209, 3775, 2115, 3668, 4298, 4690],\n",
       " [1030, 1933, 2524, 372, 4749, 1139, 1245, 1139, 3668, 4298, 4690],\n",
       " [778, 4759, 1864, 4424, 358, 2213, 778, 3668, 4298, 4690],\n",
       " [4067, 868, 3597, 3800, 4952, 1092, 3668, 4298, 4690],\n",
       " [4329, 598, 2579, 1953, 131, 3366, 1091, 1544, 2075, 3949],\n",
       " [3800, 3903, 1573, 3310, 919, 891, 4935, 3668, 4298, 4690],\n",
       " [4334, 4132, 928, 248, 1053, 2068, 567, 619, 3910, 2139, 3287],\n",
       " [1498, 3040, 4922, 1647, 1664, 3928, 3040, 1387, 2740, 815, 2712],\n",
       " [746, 1586, 3800, 204, 3630, 863, 3653, 1059, 3668, 4298, 4690],\n",
       " [325, 4948, 35, 1053, 4987, 1544, 911, 350, 1352],\n",
       " [4075, 4424, 3842, 2964, 3668, 4298, 4690],\n",
       " [2496, 4874, 3243, 3092, 3757, 1217, 3337, 1644, 3668, 4298, 4690],\n",
       " [2452, 2163, 4175, 4271, 473, 4748, 1153],\n",
       " [2579, 379, 646, 1966, 3825, 3631, 2153, 3134, 3668, 4298, 4690],\n",
       " [2008, 736, 4794, 3674, 2147, 3668, 4298, 4690],\n",
       " [2830, 2895, 2925, 2848, 3908, 487, 4689, 3800],\n",
       " [301, 3609, 1048, 3779, 3894, 4568, 1448, 3668, 4298, 4690],\n",
       " [1153, 458, 349, 1077, 4895, 3100, 4194],\n",
       " [2880, 4146, 2461, 2786, 4671, 1673, 3642, 3668, 4298, 4690],\n",
       " [2415, 1569, 3342, 3668, 4298, 4690],\n",
       " [1731, 4557, 90, 1475, 4310, 1454, 4845],\n",
       " [398, 1821, 555, 4084, 1019, 36, 1252],\n",
       " [2176, 1388, 1327, 3517, 4967, 764, 4062, 4895, 348, 646, 3668, 4298, 4690],\n",
       " [3502, 130, 4084, 90, 1856, 1091, 4687, 1352],\n",
       " [4304, 1948, 3050, 3725, 1959, 738, 1266, 4551, 2067, 2001, 3668, 4298, 4690],\n",
       " [2934, 4007, 3668, 353, 3858, 358, 1464, 3469, 3744],\n",
       " [4435, 406, 4354, 4294, 1770, 686],\n",
       " [2700, 4445, 1729, 3800, 3938, 2920, 4092, 2993, 369],\n",
       " [3936, 2452, 859, 4485, 493, 473],\n",
       " [439, 4832, 3897, 3242, 3532, 4354, 767, 788],\n",
       " [93, 4789, 4089, 1690, 3668, 4298, 4690],\n",
       " [4689, 3800, 4328, 3091, 4773, 2906, 578, 4399, 3668, 4298, 4690],\n",
       " [2584, 4292, 3963, 1771, 3362, 2478, 3668, 4298, 4690],\n",
       " [1299, 775, 1948, 1561, 2334, 75, 3668, 4298, 4690],\n",
       " [3796, 2676, 2992, 4382, 3896, 2155, 2008, 3668, 4298, 4690],\n",
       " [327, 2848, 3931, 929, 4978, 2750, 3942, 2485, 3307, 3668, 4298, 4690],\n",
       " [2577, 3795, 3712, 3475, 2577, 2544, 4364],\n",
       " [4775, 3419, 1541, 2934, 4568, 2197, 4088, 997, 3668, 358, 3858, 353],\n",
       " [4689, 3800, 4191, 3483, 2030, 2213],\n",
       " [3888, 2264, 1082, 2051, 101, 3908, 3668, 4298, 4690],\n",
       " [4915, 996, 968, 2156, 1133, 2018, 4146, 764, 3668, 4298, 4690],\n",
       " [655, 3762, 2452, 515, 2761],\n",
       " [408, 1896, 3124, 997, 3757, 4763, 3800, 238, 4230, 1352],\n",
       " [4148, 592],\n",
       " [4796, 4136, 3967, 206, 4776, 3216, 2579, 4067, 3967],\n",
       " [4312, 963, 3632, 358, 1053, 701, 3302, 2577],\n",
       " [1639, 502, 2324, 3099, 2980, 3798, 2319, 2164, 3668, 4298, 4690],\n",
       " [909, 1946, 3712, 2396, 2556],\n",
       " [3490,\n",
       "  3122,\n",
       "  1697,\n",
       "  172,\n",
       "  841,\n",
       "  1697,\n",
       "  3490,\n",
       "  563,\n",
       "  3215,\n",
       "  880,\n",
       "  3092,\n",
       "  1697,\n",
       "  3490,\n",
       "  4873,\n",
       "  1561,\n",
       "  3422,\n",
       "  3641,\n",
       "  2542,\n",
       "  1064],\n",
       " [2544, 3967, 2414, 3334, 1846, 1004, 603],\n",
       " [3032, 1704, 1941, 970, 53, 4404],\n",
       " [3800, 2577, 2068, 756, 2213, 911],\n",
       " [3483, 1544, 736, 1733, 2647, 2856, 3908, 1823, 1336, 1878, 1352],\n",
       " [4438, 3532, 2574, 2577, 3800, 3141, 551, 2786, 2862, 1864],\n",
       " [1283, 3165, 3800, 4668, 3844, 4432, 2664, 3224, 2018, 402],\n",
       " [3580, 1777, 4666],\n",
       " [4534, 349, 3930, 301, 1878, 4917],\n",
       " [2669, 4554, 3572, 248, 1735, 2095, 3668, 4298, 4690],\n",
       " [836, 2437, 2452, 2190, 4121, 767, 1265, 3949, 309, 1352],\n",
       " [1748, 1141, 2685, 1419, 1495, 1313, 2575, 3210, 1857, 4395],\n",
       " [2700, 4907, 4948, 2624, 3351, 3854, 2128, 1644, 1352],\n",
       " [1794, 4840, 4298, 82, 4846, 711, 4235],\n",
       " [1841, 2303],\n",
       " [485, 3988, 3003, 1067, 2682, 551, 3668, 4298, 4690],\n",
       " [4907, 3930, 3108, 1716, 3262, 1279, 4817, 1352],\n",
       " [2655, 1633, 3632, 1037, 2568, 4032, 2786],\n",
       " [194, 1252, 3557, 592, 4568, 1746, 3668, 4298, 4690],\n",
       " [3908, 3311, 3573, 578, 1269, 3668, 4298, 4690],\n",
       " [4373, 42, 4329, 4468, 2911, 3668, 4298, 4690],\n",
       " [3838, 3159, 1743, 4565, 2128, 3378, 3668, 4298, 4690],\n",
       " [3800, 3041, 2978, 283, 3370, 2427, 4633, 4040, 3835, 3668, 4298, 4690],\n",
       " [2097,\n",
       "  2689,\n",
       "  736,\n",
       "  4355,\n",
       "  4856,\n",
       "  1502,\n",
       "  1231,\n",
       "  3409,\n",
       "  2571,\n",
       "  3984,\n",
       "  1438,\n",
       "  4049,\n",
       "  3398,\n",
       "  3668,\n",
       "  4298,\n",
       "  4690],\n",
       " [948, 3582, 2110, 1022, 599, 3668, 4298, 4690],\n",
       " [3614, 3650, 2465, 4840, 1133, 3800, 3624],\n",
       " [2700, 3800, 1573, 1154, 3924, 1878, 2950, 4779, 987, 4737, 1352],\n",
       " [4775, 2246, 2822, 1690, 1716, 4670, 4796, 110, 3469, 1352],\n",
       " [3824, 4354, 1188, 292, 3668, 3632, 3858, 2578, 3795, 4873, 2461, 2934],\n",
       " [4044, 1917, 2502, 3824, 2076, 2533, 3668, 4298, 4690],\n",
       " [8, 2745, 174, 253],\n",
       " [3483, 467, 1615, 168, 1297, 35],\n",
       " [545, 1299, 1053, 4629, 1464, 4354, 3229, 1352],\n",
       " [3796, 3194, 936, 3211, 1244, 603, 4435, 3668, 4298, 4690],\n",
       " [4568, 4453, 4902, 3913, 873, 3285, 3293, 3493, 1206, 4902],\n",
       " [4555, 2442, 3489, 3668, 4298, 4690],\n",
       " [901, 3763, 3632, 4887, 2582, 2502, 35, 172, 1434],\n",
       " [4037, 4509, 679, 2664, 3177, 2854, 3200, 424, 119, 4447, 1352],\n",
       " [1408, 3109, 1864, 740, 248, 3940, 101, 3668, 4298, 4690],\n",
       " [2167, 4670, 639, 3800, 462],\n",
       " [3396, 3971, 2083, 701],\n",
       " [946, 2358, 3656, 1845, 513, 4571, 171, 4605, 3668, 4298, 4690],\n",
       " [1953, 806, 2946, 929, 3165, 1398, 3124, 487, 4689, 3800],\n",
       " [3389, 248, 2950, 595, 230, 2540, 3688, 4114, 3668, 4298, 4690],\n",
       " [3502, 3592, 402, 2139, 3617, 198],\n",
       " [3842, 765, 4547, 1644, 2985, 2700, 4231, 4310, 4895, 3668, 4298, 4690],\n",
       " [3632, 329, 59, 3620, 981, 4396],\n",
       " [4148, 521, 3539, 4272, 1150, 2334, 75, 3668, 4298, 4690],\n",
       " [2855, 1853, 2163, 4509, 1243, 3510, 2144, 3532, 1348],\n",
       " [70, 358, 301, 4505, 2070, 2075, 2685, 502, 1391, 4200],\n",
       " [1953, 603, 3800, 2010, 3437, 1672, 1718, 3668, 4298, 4690],\n",
       " [4114, 4654, 4146, 317, 1595, 3954],\n",
       " [134, 3632, 2118],\n",
       " [2068, 2354, 3237, 4455, 2452, 3481, 353, 3632, 2047],\n",
       " [3843, 3897, 3321, 178, 3577, 1053, 2811, 3668, 4298, 4690],\n",
       " [3814, 1042, 4881, 2688, 4453, 1962, 1457, 2278, 3474, 4881, 1957, 4320, 212],\n",
       " [4828, 765, 3648, 992, 671, 4049, 603, 3668, 4298, 4690],\n",
       " [1498, 2539, 2362, 303, 3912, 2539, 2362, 303, 3912, 1994, 812, 4060, 492],\n",
       " [1895, 2945, 4737, 2197, 3664, 3445, 4565, 2934, 1082, 3936, 3800, 873],\n",
       " [2906, 3796, 1985, 888, 1878, 2700, 2334, 3814],\n",
       " [2493, 4152, 4455, 4354, 4925, 4923, 2771, 4497, 3297, 2642],\n",
       " [1097, 4354, 2574, 2416, 4949, 4934, 2068, 4363, 198],\n",
       " [2427, 806, 4754, 539, 805, 195, 447, 1643, 3842, 3668, 4298, 4690],\n",
       " [2334, 75, 3632, 358, 4689, 3800, 1770, 1995, 3668, 4298, 4690],\n",
       " [3082, 862, 2778, 1245, 474, 4497, 97, 2869, 2163, 282, 3510],\n",
       " [3842, 765, 4489, 2264, 3668, 2539, 3668, 4298, 4690],\n",
       " [1770, 289, 3168, 3225, 4617, 1398, 2557, 3668, 4298, 4690],\n",
       " [775, 2856, 2885, 1823, 774, 2453, 4666, 2993],\n",
       " [4689, 3800, 4568, 3572, 4392, 3648, 2413],\n",
       " [2493, 4684, 1549, 767, 3954, 3814, 2202, 3814, 2646, 3138, 1352],\n",
       " [3724, 3639, 3744, 2689, 385, 521],\n",
       " [1828, 2609, 4281, 817, 3767],\n",
       " [2701, 4800, 4574, 3838, 3446],\n",
       " [3659, 3294, 2310, 2653, 1540, 301, 1352],\n",
       " [3265, 1039, 3800, 1122, 127, 2414, 1544, 1733, 4915, 3668, 4298, 4690],\n",
       " [4281, 623, 3342, 1878, 4917, 127, 929, 4740, 1352],\n",
       " [769, 337, 78, 4980],\n",
       " [2579, 3753, 4895, 4348, 4438, 4035, 1053, 3184, 3668, 4298, 4690],\n",
       " [766, 2163, 2260, 4800, 4851, 3668, 4298, 4690],\n",
       " [1932, 1209, 402, 2164, 1398, 4902, 4235],\n",
       " [1891, 4075, 2246, 2230, 1531],\n",
       " [1172, 3178, 3539, 1173, 487, 3800, 1664, 3327, 3568, 2894, 2093, 846],\n",
       " [3638, 4003, 4134, 272, 4630, 3800, 3814, 4629, 3668, 4298, 4690],\n",
       " [3855, 3800, 3676, 4822, 3206, 3177, 3784, 3511, 806, 2979],\n",
       " [4229, 2156, 3165, 4948, 2870, 4852, 3668, 4298, 4690],\n",
       " [230, 3597, 1895, 2268, 4580, 1832, 3668, 4298, 4690],\n",
       " [2934, 4022, 2156, 691, 2571, 4354, 2323, 4823, 4977],\n",
       " [1398, 283, 229, 3703, 1557, 790],\n",
       " [3307, 2621, 2700, 2900, 4521, 621, 2063, 4353],\n",
       " [65, 3469, 1153, 4227, 3413, 1562, 2689],\n",
       " [2068, 2670, 3738, 2076, 4146, 191, 2500, 3668, 4298, 4690],\n",
       " [3469, 3814, 3033, 4146, 4585, 3498],\n",
       " [2574,\n",
       "  3800,\n",
       "  4475,\n",
       "  2205,\n",
       "  603,\n",
       "  1962,\n",
       "  1823,\n",
       "  3483,\n",
       "  581,\n",
       "  442,\n",
       "  3490,\n",
       "  3413,\n",
       "  21,\n",
       "  474,\n",
       "  1352],\n",
       " [3632, 358, 127, 4455, 4754, 487, 2544, 402],\n",
       " [1117, 4662, 3456, 365, 2342, 763, 2792],\n",
       " [181, 3337, 1677, 4235, 2791],\n",
       " [4314, 18, 2083, 1552, 4235, 2905, 2083],\n",
       " [359, 686, 1104, 127, 1878, 4917, 4067, 1186],\n",
       " [3855, 3800, 4952, 4759, 790, 1136, 1789],\n",
       " [1060, 777, 2856, 981, 4738, 35, 3668, 4298, 4690],\n",
       " [2535, 578, 4320, 212, 4146, 908, 898, 2544, 2337],\n",
       " [3800, 125, 2337, 3502, 4329, 598, 2540, 3662, 3668, 4298, 4690],\n",
       " [1352, 4363, 1891, 4509, 3185, 1352],\n",
       " [3632, 3762],\n",
       " [2341, 2544, 4862, 3432, 2045, 4324, 1923, 581],\n",
       " [4689, 3800, 1172, 4787, 263, 1969, 2334, 75, 3668, 4298, 4690],\n",
       " [1864, 4287, 1225, 4589, 3445, 2667, 3042],\n",
       " [3490, 2018, 474, 4447, 1148, 3974, 3611, 1352],\n",
       " [1697, 4236, 4354, 561, 3340, 759, 2335],\n",
       " [3559, 1128, 987, 1638, 372, 2086, 3936, 788, 1352],\n",
       " [1555, 4126, 2804, 774, 2776, 3668, 4298, 4690],\n",
       " [912, 4040, 2922, 3693, 2634, 415, 1066, 1225, 3924, 4629, 1352],\n",
       " [1686, 722, 3311, 2013, 4952, 3762, 2063, 3192],\n",
       " [3800, 1897, 504, 2350, 2127, 3165, 3603, 3668, 4298, 4690],\n",
       " [101, 3752, 1097, 2274, 4733],\n",
       " [4243, 4146, 2677, 3668, 4298, 4690],\n",
       " [1498, 168, 4258, 3656, 3344],\n",
       " [3880, 2934, 358, 3858, 353, 3238, 2655, 2722, 2450, 3800, 469],\n",
       " [2579, 3163, 4468, 3954, 3635, 595, 3756, 1611, 3668, 4298, 4690],\n",
       " [4486, 2115, 3138, 2076, 3863, 4395, 1829, 4625, 1091],\n",
       " [1053, 4003, 3762, 4952, 3163, 4298, 366, 2859, 1857],\n",
       " [3800, 3012, 4158, 4629, 617, 168, 3315, 1053, 3668, 4298, 4690],\n",
       " [1040, 1415, 353, 1236, 4325],\n",
       " [4213, 814, 1448, 1060, 4044, 3630],\n",
       " [1532, 2621, 4567, 786, 77, 625, 4800],\n",
       " [2227, 1551, 595, 2437],\n",
       " [3800, 2906, 3668, 1652, 3124, 607, 1352],\n",
       " [1267, 4135, 402, 127, 2719, 2811, 2414, 4390, 230, 1311],\n",
       " [3842, 4524, 2266, 3078, 617, 4475, 1456, 158, 1352],\n",
       " [4935, 1389, 3293, 2306],\n",
       " [101,\n",
       "  2607,\n",
       "  940,\n",
       "  309,\n",
       "  2437,\n",
       "  790,\n",
       "  507,\n",
       "  1033,\n",
       "  4088,\n",
       "  2019,\n",
       "  2437,\n",
       "  2628,\n",
       "  3852,\n",
       "  3668,\n",
       "  4298,\n",
       "  4690],\n",
       " [3998, 3073, 1426, 512, 4789, 4952, 929, 3163, 4298, 366],\n",
       " [3838, 3041, 3908, 77, 2963, 1688, 4978, 248, 4952, 1352],\n",
       " [1893, 3738, 908, 3412, 4551, 2334, 4916],\n",
       " [513, 1946, 2848, 756, 3642, 3866, 1035, 372, 1543, 3668, 4298, 4690],\n",
       " [3699, 4625, 469, 3632, 358, 1510, 4689, 3800, 3668, 4298, 4690],\n",
       " [4028, 4363, 3668, 4298, 4690, 1077, 1352, 2700, 510, 1352],\n",
       " [4737, 3668, 3223, 3726, 3955, 2940, 3668, 4298, 4690],\n",
       " [2358, 4659, 4455, 3023, 1995, 2579, 4773, 3890, 4217],\n",
       " [1450, 2831, 2665, 2579, 2764, 4174, 3678, 97, 3668, 4298, 4690],\n",
       " [2700, 1643, 1516, 2873, 452],\n",
       " [4426, 1532, 2700, 2165, 4028, 4363, 4852, 3632, 358],\n",
       " [3796, 286, 3663, 4292, 2395, 4006, 601, 2516, 4166, 3668, 4298, 4690],\n",
       " [1064, 850, 3072, 2460, 2730, 4315, 1936, 1465],\n",
       " [841, 3863, 2792, 3430, 3285, 3138, 4936, 1625, 3165, 1700, 3817, 2288, 2193],\n",
       " [3796, 298, 4987, 3307, 4690, 740, 4466, 1403, 1167, 3668, 4298, 4690],\n",
       " [1864, 4978, 4291, 3472, 469, 2667, 4540],\n",
       " [2636, 2815, 4922, 2911],\n",
       " [2144, 2163, 591, 3292, 428, 1266, 4396, 3668, 4298, 4690],\n",
       " [1666, 3639, 3820, 222],\n",
       " [2875, 206, 350, 1077, 603, 571, 3211, 4607],\n",
       " [52, 3024, 3078, 691, 1343, 3621, 3668, 4298, 4690],\n",
       " [474, 3200, 2546, 4978, 2894, 4243, 4151, 1133],\n",
       " [3579, 3309, 2655, 548, 1643, 1747, 4828, 1735, 3800, 1352],\n",
       " [929, 2811, 1133, 3304, 1245, 940, 4356, 3896, 3716, 4114, 1352],\n",
       " [2913, 787, 2719, 1563, 928, 3684, 4645, 3678, 3668, 4298, 4690],\n",
       " [835, 2582, 2427, 2363, 469, 261, 3566],\n",
       " [4, 1846, 865, 916, 4227, 244],\n",
       " [3177, 92, 3757, 2092, 787],\n",
       " [4775, 2822, 4213, 3878, 1895, 1335, 3659, 2061, 4949, 1941, 1352],\n",
       " [2579, 3233, 4972, 2163, 2579, 4151, 3342, 2786, 402, 3668, 4298, 4690],\n",
       " [3800, 3510],\n",
       " [2950, 487, 2, 1676, 4089, 844, 4915, 615, 3668, 4298, 4690],\n",
       " [3800, 4738, 206, 2355, 3143, 1643, 4636, 3630, 168, 198],\n",
       " [3614, 2156, 1794, 1864, 3260, 181, 4690, 3653, 3668, 4298, 4690],\n",
       " [3888, 1228, 1301, 1378, 1570, 1043, 2075, 3523, 4978, 3884],\n",
       " [947, 1011, 1853, 1426, 2842, 230, 1133],\n",
       " [2713, 4470, 3167, 2181, 3122, 2213, 1137, 4991, 3668, 4298, 4690],\n",
       " [3526, 75, 3228, 1475, 3179],\n",
       " [4494, 198, 1355, 3877, 1704, 1814, 3632],\n",
       " [368, 3668, 4393, 1408, 891, 1847, 4441, 3668, 4298, 4690],\n",
       " [358, 3920, 3327, 873, 2786],\n",
       " [3632, 3936, 2995, 3132, 3124, 3646, 3800, 1352],\n",
       " [2202, 2577, 301, 4050, 921, 3983, 1329, 4243],\n",
       " [2388, 4971, 2605, 204, 2571, 3318, 1847, 929],\n",
       " [2963, 2628, 3617, 430, 686, 3134],\n",
       " [4909, 1145, 2226, 2217, 4146, 4446, 4135, 402, 4762, 1352],\n",
       " [3270, 1620, 3133, 3168, 1615, 2228, 3668, 4298, 4690],\n",
       " [1864, 1563, 4275, 4819, 651, 4415, 295, 3668, 4298, 4690],\n",
       " [3618, 3565, 1189, 1987, 4146, 3724, 1989, 467],\n",
       " [4445, 1785, 2934, 452, 3167, 1498, 3632, 1644, 1281],\n",
       " [929, 4883, 3949, 4753, 4183, 623, 3668, 4298, 4690],\n",
       " [2847, 1413, 4330, 4096, 1177, 4208, 2043],\n",
       " [3814, 2850, 150, 358, 4807],\n",
       " [4472, 4118, 3182, 1266, 4390, 4353, 4051, 4935],\n",
       " [4441, 402, 4196, 3800, 740, 4629, 3668, 4298, 4690],\n",
       " [4629, 1131, 928, 4118, 206, 2726, 3757, 3686, 230, 198],\n",
       " [4028, 4363, 3800, 1847, 4067, 215],\n",
       " [4088, 1018],\n",
       " [3824, 2180, 4568, 4235, 3386, 1018, 3843, 1352],\n",
       " [3297, 4852, 673, 3668, 4298, 4690],\n",
       " [4497, 4214, 2885, 2577, 2871, 3298, 2445, 1766, 4304, 3993, 2655, 1586],\n",
       " [3555, 430, 1672, 2443],\n",
       " [4565, 4312, 3858, 1704, 2667, 4944, 1864, 462],\n",
       " [4460, 3124, 2220, 996, 531, 3845, 738, 4453],\n",
       " [3872, 1555, 4805, 2956, 204, 1029, 2659, 3632],\n",
       " [3407, 393, 1426, 3140, 402, 4682, 3668, 4298, 4690],\n",
       " [1095, 4455, 4977, 3992, 433, 4977, 1080, 3124, 1352],\n",
       " [4325, 1188, 2202, 3419, 945, 1500, 53, 4438, 1930, 4348],\n",
       " [4208, 3157, 4690, 492, 2778, 3800, 44, 922, 1352],\n",
       " [1441, 2112, 4137, 4455, 2731, 2731, 3668, 4298, 4690],\n",
       " [3632, 358, 1037, 4689, 3800, 3668, 2794, 633, 2655, 1633, 3668, 4298, 4690],\n",
       " [4616, 775, 1814, 3970, 4689, 3800, 4735, 2334, 75, 3668, 4298, 4690],\n",
       " [2493, 3532, 2873, 4987, 3307, 4354, 2544, 1352],\n",
       " [1685, 4582, 4354, 4965, 4977, 47, 3668, 4298, 4690],\n",
       " [2509, 3124, 4416, 603, 3818, 2922, 3668, 4298, 4690],\n",
       " [1119, 353, 170],\n",
       " [2461, 4689, 3800, 194, 512, 2852, 280, 2607, 2853, 3668, 4298, 4690],\n",
       " [4585, 3716, 2018, 3356, 2906, 2005, 3668, 4298, 4690],\n",
       " [981, 4191, 3483, 581, 4945, 279, 2112, 1311, 3881, 1352],\n",
       " [3800, 2778, 200, 3752, 3824, 1311, 4789, 4088, 1016, 1995],\n",
       " [4517, 3978, 557, 3825, 4423, 2786, 3472, 3668, 4298, 4690],\n",
       " [4805, 3439, 3788, 4275, 2076, 4986, 3666, 4742, 3337, 1644, 1352],\n",
       " [3490, 4645, 4993, 4663, 4191, 2063, 3662, 1352],\n",
       " [4998,\n",
       "  4551,\n",
       "  3668,\n",
       "  4051,\n",
       "  3746,\n",
       "  387,\n",
       "  3559,\n",
       "  3060,\n",
       "  2155,\n",
       "  1035,\n",
       "  1383,\n",
       "  3668,\n",
       "  4298,\n",
       "  4690],\n",
       " [4689, 3800, 3632, 358, 1069, 2556, 2334, 75, 3668, 4298, 4690],\n",
       " [172, 4146, 4895, 4453, 3304, 2906, 4447, 2437, 3814, 4722],\n",
       " [928, 3738, 4948, 1726, 3632, 3838],\n",
       " [996, 2799, 4707, 4345],\n",
       " [1029, 4568, 3456, 2931, 2571, 292, 2419, 2875, 3293, 3493, 3417],\n",
       " [4754, 4807, 4114, 2579, 4438, 3828, 4856, 4900, 3668, 4298, 4690],\n",
       " [4486, 2856, 1262, 3800, 4960, 4981, 127, 806, 1906, 3338, 842, 1352],\n",
       " [595, 832, 3462, 3290, 561, 3340, 4738, 3978, 2453],\n",
       " [3800, 3297, 1878, 4917, 376, 2116, 1138, 2010, 3668, 4298, 4690],\n",
       " [1498, 3632, 358, 4354, 2701, 4752, 1704, 1018, 3858, 2339],\n",
       " [4475, 1864, 4035, 4050, 2577, 3632, 248, 3668, 2934, 3858, 353],\n",
       " [4689, 3800, 2606, 3886, 1321, 2865, 4568, 4045, 1495, 3668, 4298, 4690],\n",
       " [2654, 722, 248, 1092, 4566, 409, 2212, 4640, 2056, 3993],\n",
       " [2374, 473, 3167, 2766, 54, 3188, 1847, 1520],\n",
       " [3800, 2906, 578, 1059, 4455, 3936, 4972, 3413, 802, 1066, 3668, 4298, 4690],\n",
       " [1834, 3252, 2099, 4828, 219, 3825, 3342, 552, 198],\n",
       " [3570, 3124, 3361, 1245, 1372, 2008, 4390, 4216, 3668, 4298, 4690],\n",
       " ...]"
      ]
     },
     "execution_count": 37,
     "metadata": {},
     "output_type": "execute_result"
    }
   ],
   "source": [
    "onehot_rep"
   ]
  },
  {
   "cell_type": "markdown",
   "metadata": {},
   "source": [
    "## Embedding Representation"
   ]
  },
  {
   "cell_type": "code",
   "execution_count": 39,
   "metadata": {},
   "outputs": [],
   "source": [
    "sent_length=20\n",
    "# adding padding to make all sentences of same length.\n",
    "embedding=pad_sequences(onehot_rep,padding='pre',maxlen=sent_length)"
   ]
  },
  {
   "cell_type": "code",
   "execution_count": 40,
   "metadata": {},
   "outputs": [
    {
     "name": "stdout",
     "output_type": "stream",
     "text": [
      "[[   0    0    0 ... 1276  981 4840]\n",
      " [   0    0    0 ... 4193   39 1352]\n",
      " [   0    0    0 ... 3646 3757 3307]\n",
      " ...\n",
      " [   0    0    0 ... 3668 4298 4690]\n",
      " [   0    0    0 ... 1676  777 1546]\n",
      " [   0    0    0 ... 4044 3327 3078]]\n"
     ]
    }
   ],
   "source": [
    "print(embedding)"
   ]
  },
  {
   "cell_type": "code",
   "execution_count": 47,
   "metadata": {},
   "outputs": [
    {
     "data": {
      "text/plain": [
       "array([   0,    0,    0,    0,    0,    0,    0,    0,    0,    0,    0,\n",
       "          0,    0,    0, 1595, 4146, 1729, 4354, 2617,  996])"
      ]
     },
     "execution_count": 47,
     "metadata": {},
     "output_type": "execute_result"
    }
   ],
   "source": [
    "embedding[3]"
   ]
  },
  {
   "cell_type": "markdown",
   "metadata": {},
   "source": [
    "---"
   ]
  },
  {
   "cell_type": "markdown",
   "metadata": {},
   "source": [
    "# Analysis using -- *LSTM*"
   ]
  },
  {
   "cell_type": "markdown",
   "metadata": {},
   "source": [
    "---"
   ]
  },
  {
   "cell_type": "markdown",
   "metadata": {},
   "source": [
    "## Creating the Model - LSTM"
   ]
  },
  {
   "cell_type": "code",
   "execution_count": 48,
   "metadata": {},
   "outputs": [
    {
     "name": "stdout",
     "output_type": "stream",
     "text": [
      "Model: \"sequential\"\n",
      "_________________________________________________________________\n",
      "Layer (type)                 Output Shape              Param #   \n",
      "=================================================================\n",
      "embedding (Embedding)        (None, 20, 40)            200000    \n",
      "_________________________________________________________________\n",
      "lstm (LSTM)                  (None, 100)               56400     \n",
      "_________________________________________________________________\n",
      "dense (Dense)                (None, 1)                 101       \n",
      "=================================================================\n",
      "Total params: 256,501\n",
      "Trainable params: 256,501\n",
      "Non-trainable params: 0\n",
      "_________________________________________________________________\n",
      "None\n"
     ]
    }
   ],
   "source": [
    "embedding_vector_features=40\n",
    "\n",
    "model=Sequential()\n",
    "model.add(Embedding(voc_size,embedding_vector_features,input_length=sent_length))\n",
    "model.add(LSTM(100))\n",
    "\n",
    "# Using Sigmoid Activation Function\n",
    "model.add(Dense(1,activation='sigmoid'))\n",
    "\n",
    "# Using ADAM Optimizer\n",
    "model.compile(loss='binary_crossentropy',optimizer='adam',metrics=['accuracy'])\n",
    "print(model.summary())"
   ]
  },
  {
   "cell_type": "code",
   "execution_count": 50,
   "metadata": {},
   "outputs": [
    {
     "data": {
      "text/plain": [
       "(18285, (18285,))"
      ]
     },
     "execution_count": 50,
     "metadata": {},
     "output_type": "execute_result"
    }
   ],
   "source": [
    "len(embedding),y.shape"
   ]
  },
  {
   "cell_type": "markdown",
   "metadata": {},
   "source": [
    "### Train Test Split"
   ]
  },
  {
   "cell_type": "code",
   "execution_count": 52,
   "metadata": {},
   "outputs": [],
   "source": [
    "X_final=np.array(embedding)\n",
    "y_final=np.array(y)"
   ]
  },
  {
   "cell_type": "code",
   "execution_count": 53,
   "metadata": {},
   "outputs": [
    {
     "data": {
      "text/plain": [
       "((18285, 20), (18285,))"
      ]
     },
     "execution_count": 53,
     "metadata": {},
     "output_type": "execute_result"
    }
   ],
   "source": [
    "X_final.shape,y_final.shape"
   ]
  },
  {
   "cell_type": "code",
   "execution_count": 54,
   "metadata": {},
   "outputs": [],
   "source": [
    "from sklearn.model_selection import train_test_split\n",
    "X_train, X_test, y_train, y_test = train_test_split(X_final, y_final, test_size=0.33, random_state=42)"
   ]
  },
  {
   "cell_type": "markdown",
   "metadata": {},
   "source": [
    "## Training the Model - LSTM"
   ]
  },
  {
   "cell_type": "code",
   "execution_count": 55,
   "metadata": {},
   "outputs": [
    {
     "name": "stdout",
     "output_type": "stream",
     "text": [
      "Epoch 1/10\n",
      "192/192 [==============================] - 4s 21ms/step - loss: 0.3385 - accuracy: 0.8386 - val_loss: 0.2010 - val_accuracy: 0.9138\n",
      "Epoch 2/10\n",
      "192/192 [==============================] - 3s 17ms/step - loss: 0.1416 - accuracy: 0.9443 - val_loss: 0.2177 - val_accuracy: 0.9200\n",
      "Epoch 3/10\n",
      "192/192 [==============================] - 4s 19ms/step - loss: 0.0928 - accuracy: 0.9667 - val_loss: 0.2402 - val_accuracy: 0.9233\n",
      "Epoch 4/10\n",
      "192/192 [==============================] - 3s 18ms/step - loss: 0.0627 - accuracy: 0.9793 - val_loss: 0.2797 - val_accuracy: 0.9110\n",
      "Epoch 5/10\n",
      "192/192 [==============================] - 3s 18ms/step - loss: 0.0395 - accuracy: 0.9873 - val_loss: 0.3133 - val_accuracy: 0.9046\n",
      "Epoch 6/10\n",
      "192/192 [==============================] - 4s 22ms/step - loss: 0.0242 - accuracy: 0.9924 - val_loss: 0.3433 - val_accuracy: 0.9082\n",
      "Epoch 7/10\n",
      "192/192 [==============================] - 4s 21ms/step - loss: 0.0163 - accuracy: 0.9956 - val_loss: 0.4315 - val_accuracy: 0.9148\n",
      "Epoch 8/10\n",
      "192/192 [==============================] - 6s 29ms/step - loss: 0.0098 - accuracy: 0.9972 - val_loss: 0.5310 - val_accuracy: 0.9095\n",
      "Epoch 9/10\n",
      "192/192 [==============================] - 6s 32ms/step - loss: 0.0051 - accuracy: 0.9986 - val_loss: 0.5533 - val_accuracy: 0.8935\n",
      "Epoch 10/10\n",
      "192/192 [==============================] - 6s 29ms/step - loss: 0.0096 - accuracy: 0.9975 - val_loss: 0.5510 - val_accuracy: 0.9085\n"
     ]
    },
    {
     "data": {
      "text/plain": [
       "<tensorflow.python.keras.callbacks.History at 0x1e0c99912e8>"
      ]
     },
     "execution_count": 55,
     "metadata": {},
     "output_type": "execute_result"
    }
   ],
   "source": [
    "model.fit(X_train,y_train,validation_data=(X_test,y_test),epochs=10,batch_size=64)"
   ]
  },
  {
   "cell_type": "markdown",
   "metadata": {},
   "source": [
    "LSTM Model Trained."
   ]
  },
  {
   "cell_type": "markdown",
   "metadata": {},
   "source": [
    "## Predicting..."
   ]
  },
  {
   "cell_type": "code",
   "execution_count": 56,
   "metadata": {},
   "outputs": [
    {
     "name": "stdout",
     "output_type": "stream",
     "text": [
      "WARNING:tensorflow:From <ipython-input-56-66f7fe571d01>:1: Sequential.predict_classes (from tensorflow.python.keras.engine.sequential) is deprecated and will be removed after 2021-01-01.\n",
      "Instructions for updating:\n",
      "Please use instead:* `np.argmax(model.predict(x), axis=-1)`,   if your model does multi-class classification   (e.g. if it uses a `softmax` last-layer activation).* `(model.predict(x) > 0.5).astype(\"int32\")`,   if your model does binary classification   (e.g. if it uses a `sigmoid` last-layer activation).\n"
     ]
    }
   ],
   "source": [
    "y_pred=model.predict_classes(X_test)"
   ]
  },
  {
   "cell_type": "markdown",
   "metadata": {},
   "source": [
    "### Confusion Matrix"
   ]
  },
  {
   "cell_type": "code",
   "execution_count": 58,
   "metadata": {},
   "outputs": [],
   "source": [
    "from sklearn.metrics import confusion_matrix"
   ]
  },
  {
   "cell_type": "code",
   "execution_count": 59,
   "metadata": {},
   "outputs": [
    {
     "data": {
      "text/plain": [
       "array([[3124,  295],\n",
       "       [ 257, 2359]], dtype=int64)"
      ]
     },
     "execution_count": 59,
     "metadata": {},
     "output_type": "execute_result"
    }
   ],
   "source": [
    "confusion_matrix(y_test,y_pred)"
   ]
  },
  {
   "cell_type": "markdown",
   "metadata": {},
   "source": [
    "### Accuracy"
   ]
  },
  {
   "cell_type": "code",
   "execution_count": 61,
   "metadata": {},
   "outputs": [],
   "source": [
    "from sklearn.metrics import accuracy_score"
   ]
  },
  {
   "cell_type": "code",
   "execution_count": 62,
   "metadata": {},
   "outputs": [
    {
     "data": {
      "text/plain": [
       "0.9085335542667772"
      ]
     },
     "execution_count": 62,
     "metadata": {},
     "output_type": "execute_result"
    }
   ],
   "source": [
    "accuracy_score(y_test,y_pred)"
   ]
  },
  {
   "cell_type": "markdown",
   "metadata": {},
   "source": [
    "### Classification Report"
   ]
  },
  {
   "cell_type": "code",
   "execution_count": 83,
   "metadata": {},
   "outputs": [],
   "source": [
    "from sklearn.metrics import classification_report"
   ]
  },
  {
   "cell_type": "code",
   "execution_count": 84,
   "metadata": {},
   "outputs": [
    {
     "name": "stdout",
     "output_type": "stream",
     "text": [
      "              precision    recall  f1-score   support\n",
      "\n",
      "           0       0.92      0.91      0.92      3419\n",
      "           1       0.89      0.90      0.90      2616\n",
      "\n",
      "    accuracy                           0.91      6035\n",
      "   macro avg       0.91      0.91      0.91      6035\n",
      "weighted avg       0.91      0.91      0.91      6035\n",
      "\n"
     ]
    }
   ],
   "source": [
    "print(classification_report(y_test,y_pred))"
   ]
  },
  {
   "cell_type": "code",
   "execution_count": null,
   "metadata": {},
   "outputs": [],
   "source": []
  },
  {
   "cell_type": "code",
   "execution_count": null,
   "metadata": {},
   "outputs": [],
   "source": []
  },
  {
   "cell_type": "code",
   "execution_count": 86,
   "metadata": {},
   "outputs": [],
   "source": [
    "#Now,"
   ]
  },
  {
   "cell_type": "markdown",
   "metadata": {},
   "source": [
    "***\n",
    "***"
   ]
  },
  {
   "cell_type": "markdown",
   "metadata": {},
   "source": [
    "# Analysis using --  *Bidirectional LSTM*"
   ]
  },
  {
   "cell_type": "markdown",
   "metadata": {},
   "source": [
    "---"
   ]
  },
  {
   "cell_type": "code",
   "execution_count": 64,
   "metadata": {},
   "outputs": [
    {
     "data": {
      "text/html": [
       "<div>\n",
       "<style scoped>\n",
       "    .dataframe tbody tr th:only-of-type {\n",
       "        vertical-align: middle;\n",
       "    }\n",
       "\n",
       "    .dataframe tbody tr th {\n",
       "        vertical-align: top;\n",
       "    }\n",
       "\n",
       "    .dataframe thead th {\n",
       "        text-align: right;\n",
       "    }\n",
       "</style>\n",
       "<table border=\"1\" class=\"dataframe\">\n",
       "  <thead>\n",
       "    <tr style=\"text-align: right;\">\n",
       "      <th></th>\n",
       "      <th>id</th>\n",
       "      <th>title</th>\n",
       "      <th>author</th>\n",
       "      <th>text</th>\n",
       "      <th>label</th>\n",
       "    </tr>\n",
       "  </thead>\n",
       "  <tbody>\n",
       "    <tr>\n",
       "      <th>0</th>\n",
       "      <td>0</td>\n",
       "      <td>House Dem Aide: We Didn’t Even See Comey’s Let...</td>\n",
       "      <td>Darrell Lucus</td>\n",
       "      <td>House Dem Aide: We Didn’t Even See Comey’s Let...</td>\n",
       "      <td>1</td>\n",
       "    </tr>\n",
       "    <tr>\n",
       "      <th>1</th>\n",
       "      <td>1</td>\n",
       "      <td>FLYNN: Hillary Clinton, Big Woman on Campus - ...</td>\n",
       "      <td>Daniel J. Flynn</td>\n",
       "      <td>Ever get the feeling your life circles the rou...</td>\n",
       "      <td>0</td>\n",
       "    </tr>\n",
       "    <tr>\n",
       "      <th>2</th>\n",
       "      <td>2</td>\n",
       "      <td>Why the Truth Might Get You Fired</td>\n",
       "      <td>Consortiumnews.com</td>\n",
       "      <td>Why the Truth Might Get You Fired October 29, ...</td>\n",
       "      <td>1</td>\n",
       "    </tr>\n",
       "    <tr>\n",
       "      <th>3</th>\n",
       "      <td>3</td>\n",
       "      <td>15 Civilians Killed In Single US Airstrike Hav...</td>\n",
       "      <td>Jessica Purkiss</td>\n",
       "      <td>Videos 15 Civilians Killed In Single US Airstr...</td>\n",
       "      <td>1</td>\n",
       "    </tr>\n",
       "    <tr>\n",
       "      <th>4</th>\n",
       "      <td>4</td>\n",
       "      <td>Iranian woman jailed for fictional unpublished...</td>\n",
       "      <td>Howard Portnoy</td>\n",
       "      <td>Print \\nAn Iranian woman has been sentenced to...</td>\n",
       "      <td>1</td>\n",
       "    </tr>\n",
       "  </tbody>\n",
       "</table>\n",
       "</div>"
      ],
      "text/plain": [
       "   id                                              title              author  \\\n",
       "0   0  House Dem Aide: We Didn’t Even See Comey’s Let...       Darrell Lucus   \n",
       "1   1  FLYNN: Hillary Clinton, Big Woman on Campus - ...     Daniel J. Flynn   \n",
       "2   2                  Why the Truth Might Get You Fired  Consortiumnews.com   \n",
       "3   3  15 Civilians Killed In Single US Airstrike Hav...     Jessica Purkiss   \n",
       "4   4  Iranian woman jailed for fictional unpublished...      Howard Portnoy   \n",
       "\n",
       "                                                text  label  \n",
       "0  House Dem Aide: We Didn’t Even See Comey’s Let...      1  \n",
       "1  Ever get the feeling your life circles the rou...      0  \n",
       "2  Why the Truth Might Get You Fired October 29, ...      1  \n",
       "3  Videos 15 Civilians Killed In Single US Airstr...      1  \n",
       "4  Print \\nAn Iranian woman has been sentenced to...      1  "
      ]
     },
     "execution_count": 64,
     "metadata": {},
     "output_type": "execute_result"
    }
   ],
   "source": [
    "df.head()"
   ]
  },
  {
   "cell_type": "code",
   "execution_count": 66,
   "metadata": {},
   "outputs": [],
   "source": [
    "from tensorflow.keras.layers import Bidirectional"
   ]
  },
  {
   "cell_type": "code",
   "execution_count": 67,
   "metadata": {},
   "outputs": [
    {
     "name": "stdout",
     "output_type": "stream",
     "text": [
      "18284\n"
     ]
    }
   ],
   "source": [
    "print(i)"
   ]
  },
  {
   "cell_type": "code",
   "execution_count": 68,
   "metadata": {},
   "outputs": [],
   "source": [
    "#corpus"
   ]
  },
  {
   "cell_type": "code",
   "execution_count": 69,
   "metadata": {},
   "outputs": [
    {
     "data": {
      "text/plain": [
       "array([   0,    0,    0,    0,    0,    0,    0,    0,    0,    0, 1639,\n",
       "       4193,   97, 1422, 3978, 4852, 4193,  765, 3678, 2001])"
      ]
     },
     "execution_count": 69,
     "metadata": {},
     "output_type": "execute_result"
    }
   ],
   "source": [
    "embedding[4]"
   ]
  },
  {
   "cell_type": "markdown",
   "metadata": {},
   "source": [
    "## Creating the Model - Bidirectional LSTM"
   ]
  },
  {
   "cell_type": "code",
   "execution_count": 91,
   "metadata": {},
   "outputs": [
    {
     "name": "stdout",
     "output_type": "stream",
     "text": [
      "Model: \"sequential_4\"\n",
      "_________________________________________________________________\n",
      "Layer (type)                 Output Shape              Param #   \n",
      "=================================================================\n",
      "embedding_4 (Embedding)      (None, 20, 40)            200000    \n",
      "_________________________________________________________________\n",
      "bidirectional_3 (Bidirection (None, 200)               112800    \n",
      "_________________________________________________________________\n",
      "dense_3 (Dense)              (None, 1)                 201       \n",
      "=================================================================\n",
      "Total params: 313,001\n",
      "Trainable params: 313,001\n",
      "Non-trainable params: 0\n",
      "_________________________________________________________________\n",
      "None\n"
     ]
    }
   ],
   "source": [
    "\n",
    "embedding_vector_features=40\n",
    "model2=Sequential()\n",
    "model2.add(Embedding(voc_size,embedding_vector_features,input_length=sent_length))\n",
    "\n",
    "model2.add(Bidirectional(LSTM(100)))\n",
    "\n",
    "# Using Sigmoid Activation Function\n",
    "model2.add(Dense(1,activation='sigmoid'))\n",
    "\n",
    "# Using ADAM Optimizer\n",
    "model2.compile(loss='binary_crossentropy',optimizer='adam',metrics=['accuracy'])\n",
    "print(model2.summary())"
   ]
  },
  {
   "cell_type": "code",
   "execution_count": 92,
   "metadata": {},
   "outputs": [
    {
     "data": {
      "text/plain": [
       "((18285, 20), (18285,))"
      ]
     },
     "execution_count": 92,
     "metadata": {},
     "output_type": "execute_result"
    }
   ],
   "source": [
    "X_final.shape,y_final.shape"
   ]
  },
  {
   "cell_type": "markdown",
   "metadata": {},
   "source": [
    "## Training the Model - Bidirectional LSTM"
   ]
  },
  {
   "cell_type": "code",
   "execution_count": 93,
   "metadata": {},
   "outputs": [
    {
     "name": "stdout",
     "output_type": "stream",
     "text": [
      "Epoch 1/10\n",
      "192/192 [==============================] - 11s 60ms/step - loss: 0.2989 - accuracy: 0.8602 - val_loss: 0.2047 - val_accuracy: 0.9145\n",
      "Epoch 2/10\n",
      "192/192 [==============================] - 9s 46ms/step - loss: 0.1382 - accuracy: 0.9444 - val_loss: 0.2083 - val_accuracy: 0.9135\n",
      "Epoch 3/10\n",
      "192/192 [==============================] - 9s 45ms/step - loss: 0.0874 - accuracy: 0.9675 - val_loss: 0.2526 - val_accuracy: 0.9157\n",
      "Epoch 4/10\n",
      "192/192 [==============================] - 9s 45ms/step - loss: 0.0530 - accuracy: 0.9826 - val_loss: 0.3199 - val_accuracy: 0.9122\n",
      "Epoch 5/10\n",
      "192/192 [==============================] - 9s 45ms/step - loss: 0.0382 - accuracy: 0.9878 - val_loss: 0.3731 - val_accuracy: 0.9132\n",
      "Epoch 6/10\n",
      "192/192 [==============================] - 9s 45ms/step - loss: 0.0238 - accuracy: 0.9922 - val_loss: 0.4090 - val_accuracy: 0.9052\n",
      "Epoch 7/10\n",
      "192/192 [==============================] - 9s 45ms/step - loss: 0.0189 - accuracy: 0.9942 - val_loss: 0.5271 - val_accuracy: 0.9036\n",
      "Epoch 8/10\n",
      "192/192 [==============================] - 9s 46ms/step - loss: 0.0115 - accuracy: 0.9971 - val_loss: 0.5721 - val_accuracy: 0.9107\n",
      "Epoch 9/10\n",
      "192/192 [==============================] - 9s 46ms/step - loss: 0.0094 - accuracy: 0.9973 - val_loss: 0.5607 - val_accuracy: 0.9085\n",
      "Epoch 10/10\n",
      "192/192 [==============================] - 9s 46ms/step - loss: 0.0058 - accuracy: 0.9986 - val_loss: 0.6063 - val_accuracy: 0.9049\n"
     ]
    },
    {
     "data": {
      "text/plain": [
       "<tensorflow.python.keras.callbacks.History at 0x1e0dbd49198>"
      ]
     },
     "execution_count": 93,
     "metadata": {},
     "output_type": "execute_result"
    }
   ],
   "source": [
    "model2.fit(X_train,y_train,validation_data=(X_test,y_test),epochs=10,batch_size=64)"
   ]
  },
  {
   "cell_type": "markdown",
   "metadata": {},
   "source": [
    "Bidirectional LSTM Model Trained"
   ]
  },
  {
   "cell_type": "markdown",
   "metadata": {},
   "source": [
    "## Predicting .."
   ]
  },
  {
   "cell_type": "code",
   "execution_count": 94,
   "metadata": {},
   "outputs": [],
   "source": [
    "y_pred2=model2.predict_classes(X_test)"
   ]
  },
  {
   "cell_type": "markdown",
   "metadata": {},
   "source": [
    "### Confusion Matrix"
   ]
  },
  {
   "cell_type": "code",
   "execution_count": 95,
   "metadata": {},
   "outputs": [],
   "source": [
    "from sklearn.metrics import confusion_matrix"
   ]
  },
  {
   "cell_type": "code",
   "execution_count": 96,
   "metadata": {},
   "outputs": [
    {
     "data": {
      "text/plain": [
       "array([[3145,  274],\n",
       "       [ 300, 2316]], dtype=int64)"
      ]
     },
     "execution_count": 96,
     "metadata": {},
     "output_type": "execute_result"
    }
   ],
   "source": [
    "confusion_matrix(y_test,y_pred2)"
   ]
  },
  {
   "cell_type": "markdown",
   "metadata": {},
   "source": [
    "### Accuracy"
   ]
  },
  {
   "cell_type": "code",
   "execution_count": 97,
   "metadata": {},
   "outputs": [],
   "source": [
    "from sklearn.metrics import accuracy_score"
   ]
  },
  {
   "cell_type": "code",
   "execution_count": 98,
   "metadata": {},
   "outputs": [
    {
     "data": {
      "text/plain": [
       "0.9048881524440763"
      ]
     },
     "execution_count": 98,
     "metadata": {},
     "output_type": "execute_result"
    }
   ],
   "source": [
    "accuracy_score(y_test,y_pred2)"
   ]
  },
  {
   "cell_type": "markdown",
   "metadata": {},
   "source": [
    "### Classification Report"
   ]
  },
  {
   "cell_type": "code",
   "execution_count": 99,
   "metadata": {},
   "outputs": [],
   "source": [
    "from sklearn.metrics import classification_report"
   ]
  },
  {
   "cell_type": "code",
   "execution_count": 100,
   "metadata": {},
   "outputs": [
    {
     "name": "stdout",
     "output_type": "stream",
     "text": [
      "              precision    recall  f1-score   support\n",
      "\n",
      "           0       0.91      0.92      0.92      3419\n",
      "           1       0.89      0.89      0.89      2616\n",
      "\n",
      "    accuracy                           0.90      6035\n",
      "   macro avg       0.90      0.90      0.90      6035\n",
      "weighted avg       0.90      0.90      0.90      6035\n",
      "\n"
     ]
    }
   ],
   "source": [
    "print(classification_report(y_test,y_pred2))"
   ]
  },
  {
   "cell_type": "markdown",
   "metadata": {},
   "source": [
    "# *Concluding --*"
   ]
  },
  {
   "cell_type": "markdown",
   "metadata": {},
   "source": [
    "From the two above observations, we can say that :\n",
    "\n",
    "Over boththe Recurrent Neural Network Model :\n",
    "\n",
    "LSTM model performed slightly better in comparision to the Bidirectional_LSTM model !"
   ]
  },
  {
   "cell_type": "code",
   "execution_count": null,
   "metadata": {},
   "outputs": [],
   "source": []
  }
 ],
 "metadata": {
  "kernelspec": {
   "display_name": "Python 3",
   "language": "python",
   "name": "python3"
  },
  "language_info": {
   "codemirror_mode": {
    "name": "ipython",
    "version": 3
   },
   "file_extension": ".py",
   "mimetype": "text/x-python",
   "name": "python",
   "nbconvert_exporter": "python",
   "pygments_lexer": "ipython3",
   "version": "3.7.0"
  }
 },
 "nbformat": 4,
 "nbformat_minor": 2
}
